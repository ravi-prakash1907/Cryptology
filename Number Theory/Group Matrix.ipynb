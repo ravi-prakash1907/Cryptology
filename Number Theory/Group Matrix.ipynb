{
  "nbformat": 4,
  "nbformat_minor": 0,
  "metadata": {
    "colab": {
      "name": "Group Matrix.ipynb",
      "provenance": [],
      "authorship_tag": "ABX9TyM1Tz107kUpme4dcw7nxS1+",
      "include_colab_link": true
    },
    "kernelspec": {
      "name": "python3",
      "display_name": "Python 3"
    }
  },
  "cells": [
    {
      "cell_type": "markdown",
      "metadata": {
        "id": "view-in-github",
        "colab_type": "text"
      },
      "source": [
        "<a href=\"https://colab.research.google.com/github/ravi-prakash1907/Cryptology/blob/main/Number%20Theory/Group%20Matrix.ipynb\" target=\"_parent\"><img src=\"https://colab.research.google.com/assets/colab-badge.svg\" alt=\"Open In Colab\"/></a>"
      ]
    },
    {
      "cell_type": "code",
      "metadata": {
        "id": "LWIZsMrRnWwp"
      },
      "source": [
        "def getPlusModN(Zn):\n",
        "  plusModN = []\n",
        "\n",
        "  for rowItam in Zn:\n",
        "    temp = []\n",
        "    for item in Zn:\n",
        "      temp.append((rowItam+item)%n)\n",
        "    plusModN.append(temp)\n",
        "  for row in plusModN:\n",
        "    row.insert(0,str(row[0]))\n",
        "\n",
        "  zerothRow = Zn[:]\n",
        "  zerothRow.insert(0,'+n')\n",
        "  plusModN.insert(0,zerothRow)\n",
        "\n",
        "  return plusModN\n",
        "\n",
        "\n",
        "def getMulModN(Zn):\n",
        "  mulModN = []\n",
        "  Zn.remove(0)\n",
        "\n",
        "  for rowItam in Zn:\n",
        "    temp = []\n",
        "    for item in Zn:\n",
        "      temp.append((rowItam*item)%n)\n",
        "    mulModN.append(temp)\n",
        "  for row in mulModN:\n",
        "    row.insert(0,str(row[0]))\n",
        "\n",
        "  zerothRow = Zn[:]\n",
        "  zerothRow.insert(0,'*n')\n",
        "  mulModN.insert(0,zerothRow)\n",
        "\n",
        "  return mulModN"
      ],
      "execution_count": 11,
      "outputs": []
    },
    {
      "cell_type": "code",
      "metadata": {
        "colab": {
          "base_uri": "https://localhost:8080/"
        },
        "id": "pSuhwPGHkBHA",
        "outputId": "e45598d5-4ec8-46be-9937-785b6295a6f1"
      },
      "source": [
        "n = int(input(\"Enter n in Zn:\"))\n",
        "\n",
        "Zn = list(range(n))\n",
        "Zn\n",
        "\n",
        "\n",
        "\n",
        "plusModN = getPlusModN(Zn)\n",
        "mulModN = getMulModN(Zn)\n",
        "\n",
        "print(\"\\nPrinting Zn ( n =\",n,\") matrix:\\n\")\n",
        "for row in plusModN:\n",
        "  print(row)\n",
        "\n",
        "\n",
        "print(\"\\nPrinting Zn ( n =\",n,\") matrix:\\n\")\n",
        "for row in mulModN:\n",
        "  print(row)"
      ],
      "execution_count": 13,
      "outputs": [
        {
          "output_type": "stream",
          "text": [
            "Enter n in Zn:4\n",
            "\n",
            "Printing Zn ( n = 4 ) matrix:\n",
            "\n",
            "['+n', 0, 1, 2, 3]\n",
            "['0', 0, 1, 2, 3]\n",
            "['1', 1, 2, 3, 0]\n",
            "['2', 2, 3, 0, 1]\n",
            "['3', 3, 0, 1, 2]\n",
            "\n",
            "Printing Zn ( n = 4 ) matrix:\n",
            "\n",
            "['*n', 1, 2, 3]\n",
            "['1', 1, 2, 3]\n",
            "['2', 2, 0, 2]\n",
            "['3', 3, 2, 1]\n"
          ],
          "name": "stdout"
        }
      ]
    },
    {
      "cell_type": "code",
      "metadata": {
        "id": "bRigXJyJoKZK"
      },
      "source": [
        ""
      ],
      "execution_count": null,
      "outputs": []
    }
  ]
}
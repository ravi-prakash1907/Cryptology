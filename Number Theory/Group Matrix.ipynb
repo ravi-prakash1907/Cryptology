{
  "nbformat": 4,
  "nbformat_minor": 0,
  "metadata": {
    "colab": {
      "name": "Group Matrix.ipynb",
      "provenance": [],
      "authorship_tag": "ABX9TyN9J3iIRvMLKXcw1InQEmBu",
      "include_colab_link": true
    },
    "kernelspec": {
      "name": "python3",
      "display_name": "Python 3"
    }
  },
  "cells": [
    {
      "cell_type": "markdown",
      "metadata": {
        "id": "view-in-github",
        "colab_type": "text"
      },
      "source": [
        "<a href=\"https://colab.research.google.com/github/ravi-prakash1907/Cryptology/blob/main/Number%20Theory/Group%20Matrix.ipynb\" target=\"_parent\"><img src=\"https://colab.research.google.com/assets/colab-badge.svg\" alt=\"Open In Colab\"/></a>"
      ]
    },
    {
      "cell_type": "code",
      "metadata": {
        "id": "LWIZsMrRnWwp"
      },
      "source": [
        "def getPlusModN(Zn, n):\n",
        "  plusModN = []\n",
        "\n",
        "  for rowItam in Zn:\n",
        "    temp = []\n",
        "    for item in Zn:\n",
        "      temp.append((rowItam+item)%n)\n",
        "    plusModN.append(temp)\n",
        "  for row in plusModN:\n",
        "    row.insert(0,str(row[0]))\n",
        "\n",
        "  zerothRow = Zn[:]\n",
        "  zerothRow.insert(0,'+n')\n",
        "  plusModN.insert(0,zerothRow)\n",
        "\n",
        "  return plusModN\n",
        "\n",
        "\n",
        "def getMulModN(Zn, n):\n",
        "  mulModN = []\n",
        "  if 0 in Zn:\n",
        "    Zn.remove(0)\n",
        "\n",
        "  for rowItam in Zn:\n",
        "    temp = []\n",
        "    for item in Zn:\n",
        "      temp.append((rowItam*item)%n)\n",
        "    mulModN.append(temp)\n",
        "  for row in mulModN:\n",
        "    row.insert(0,str(row[0]))\n",
        "\n",
        "  zerothRow = Zn[:]\n",
        "  zerothRow.insert(0,'*n')\n",
        "  mulModN.insert(0,zerothRow)\n",
        "\n",
        "  return mulModN"
      ],
      "execution_count": 18,
      "outputs": []
    },
    {
      "cell_type": "code",
      "metadata": {
        "colab": {
          "base_uri": "https://localhost:8080/"
        },
        "id": "pSuhwPGHkBHA",
        "outputId": "fbcee1af-3400-4e7d-a018-4f926346acd1"
      },
      "source": [
        "n = int(input(\"Enter n in Zn:\"))\n",
        "\n",
        "Zn = list(range(n))\n",
        "Zn\n",
        "\n",
        "\n",
        "\n",
        "plusModN = getPlusModN(Zn, n)\n",
        "mulModN = getMulModN(Zn, n)\n",
        "\n",
        "print(\"\\nPrinting Zn ( n =\",n,\") matrix:\\n\")\n",
        "for row in plusModN:\n",
        "  print(row)\n",
        "\n",
        "\n",
        "print(\"\\nPrinting Zn ( n =\",n,\") matrix:\\n\")\n",
        "for row in mulModN:\n",
        "  print(row)"
      ],
      "execution_count": 21,
      "outputs": [
        {
          "output_type": "stream",
          "text": [
            "Enter n in Zn:11\n",
            "\n",
            "Printing Zn ( n = 11 ) matrix:\n",
            "\n",
            "['+n', 0, 1, 2, 3, 4, 5, 6, 7, 8, 9, 10]\n",
            "['0', 0, 1, 2, 3, 4, 5, 6, 7, 8, 9, 10]\n",
            "['1', 1, 2, 3, 4, 5, 6, 7, 8, 9, 10, 0]\n",
            "['2', 2, 3, 4, 5, 6, 7, 8, 9, 10, 0, 1]\n",
            "['3', 3, 4, 5, 6, 7, 8, 9, 10, 0, 1, 2]\n",
            "['4', 4, 5, 6, 7, 8, 9, 10, 0, 1, 2, 3]\n",
            "['5', 5, 6, 7, 8, 9, 10, 0, 1, 2, 3, 4]\n",
            "['6', 6, 7, 8, 9, 10, 0, 1, 2, 3, 4, 5]\n",
            "['7', 7, 8, 9, 10, 0, 1, 2, 3, 4, 5, 6]\n",
            "['8', 8, 9, 10, 0, 1, 2, 3, 4, 5, 6, 7]\n",
            "['9', 9, 10, 0, 1, 2, 3, 4, 5, 6, 7, 8]\n",
            "['10', 10, 0, 1, 2, 3, 4, 5, 6, 7, 8, 9]\n",
            "\n",
            "Printing Zn ( n = 11 ) matrix:\n",
            "\n",
            "['*n', 1, 2, 3, 4, 5, 6, 7, 8, 9, 10]\n",
            "['1', 1, 2, 3, 4, 5, 6, 7, 8, 9, 10]\n",
            "['2', 2, 4, 6, 8, 10, 1, 3, 5, 7, 9]\n",
            "['3', 3, 6, 9, 1, 4, 7, 10, 2, 5, 8]\n",
            "['4', 4, 8, 1, 5, 9, 2, 6, 10, 3, 7]\n",
            "['5', 5, 10, 4, 9, 3, 8, 2, 7, 1, 6]\n",
            "['6', 6, 1, 7, 2, 8, 3, 9, 4, 10, 5]\n",
            "['7', 7, 3, 10, 6, 2, 9, 5, 1, 8, 4]\n",
            "['8', 8, 5, 2, 10, 7, 4, 1, 9, 6, 3]\n",
            "['9', 9, 7, 5, 3, 1, 10, 8, 6, 4, 2]\n",
            "['10', 10, 9, 8, 7, 6, 5, 4, 3, 2, 1]\n"
          ],
          "name": "stdout"
        }
      ]
    },
    {
      "cell_type": "code",
      "metadata": {
        "colab": {
          "base_uri": "https://localhost:8080/"
        },
        "id": "bRigXJyJoKZK",
        "outputId": "940eae56-814c-4bcd-e941-664839be177e"
      },
      "source": [
        "n= 10\n",
        "mulModN = getMulModN([1,3,7,9], n)\n",
        "\n",
        "print(\"\\nPrinting Zn ( n =\",n,\") matrix:\\n\")\n",
        "for row in mulModN:\n",
        "  print(row)"
      ],
      "execution_count": 19,
      "outputs": [
        {
          "output_type": "stream",
          "text": [
            "\n",
            "Printing Zn ( n = 10 ) matrix:\n",
            "\n",
            "['*n', 1, 3, 7, 9]\n",
            "['1', 1, 3, 7, 9]\n",
            "['3', 3, 9, 1, 7]\n",
            "['7', 7, 1, 9, 3]\n",
            "['9', 9, 7, 3, 1]\n"
          ],
          "name": "stdout"
        }
      ]
    },
    {
      "cell_type": "code",
      "metadata": {
        "colab": {
          "base_uri": "https://localhost:8080/"
        },
        "id": "h6tDUHC5084u",
        "outputId": "bc15638f-cac5-44c0-e138-c344f03a3d7f"
      },
      "source": [
        "temp = []\n",
        "for i in range(11):\n",
        "  val = pow(5,i)\n",
        "  temp.append(val%11) \n",
        "\n",
        "temp"
      ],
      "execution_count": 26,
      "outputs": [
        {
          "output_type": "execute_result",
          "data": {
            "text/plain": [
              "[1, 5, 3, 4, 9, 1, 5, 3, 4, 9, 1]"
            ]
          },
          "metadata": {
            "tags": []
          },
          "execution_count": 26
        }
      ]
    },
    {
      "cell_type": "code",
      "metadata": {
        "colab": {
          "base_uri": "https://localhost:8080/"
        },
        "id": "nFCXP_oh5Wlq",
        "outputId": "a414ef5a-46f9-4622-d627-20f5dd5e588f"
      },
      "source": [
        "[1, 4, 5, 9, 3,"
      ],
      "execution_count": 22,
      "outputs": [
        {
          "output_type": "execute_result",
          "data": {
            "text/plain": [
              "8"
            ]
          },
          "metadata": {
            "tags": []
          },
          "execution_count": 22
        }
      ]
    }
  ]
}
{
  "nbformat": 4,
  "nbformat_minor": 0,
  "metadata": {
    "colab": {
      "name": "modVigCipher.ipynb",
      "provenance": [],
      "authorship_tag": "ABX9TyPEapffBeBzgKzwhjaN3el4",
      "include_colab_link": true
    },
    "kernelspec": {
      "name": "python3",
      "display_name": "Python 3"
    }
  },
  "cells": [
    {
      "cell_type": "markdown",
      "metadata": {
        "id": "view-in-github",
        "colab_type": "text"
      },
      "source": [
        "<a href=\"https://colab.research.google.com/github/ravi-prakash1907/Cryptology/blob/main/notebooks/modVigCipher.ipynb\" target=\"_parent\"><img src=\"https://colab.research.google.com/assets/colab-badge.svg\" alt=\"Open In Colab\"/></a>"
      ]
    },
    {
      "cell_type": "markdown",
      "metadata": {
        "id": "gQEwftvMk3pS"
      },
      "source": [
        "# **Modified Vigenere Cipher**  \n",
        "\n",
        "### Problem:  \n",
        "\n",
        "_\"Define a **modified shift cipher** where characters occurring at the <u>odd positions</u> are shifted (addition modulo 10) by applying the key character <u>once</u> and  the characters occurring  at the <u>even positions</u> are shifted by applying the key character <u>twice</u>. Implement (encryption and decryption) this cipher in python_  \n",
        "\n",
        "_\"Encrypt 10^(16) - 1 using this cipher where key is the last 4 digits of your mobile number (the key is repeated after encrypting every 4 character block). The plaintext and ciphertext alphabets are the digits 0,1,2,...,9.  Also show the decryption of the ciphertext obtained.\"_"
      ]
    },
    {
      "cell_type": "code",
      "metadata": {
        "id": "k-mFtsX6mG-R"
      },
      "source": [
        "import numpy as np\n",
        "import pandas as pd"
      ],
      "execution_count": 121,
      "outputs": []
    },
    {
      "cell_type": "markdown",
      "metadata": {
        "id": "E6kfUW8VqCM1"
      },
      "source": [
        "## **Solution:**"
      ]
    },
    {
      "cell_type": "markdown",
      "metadata": {
        "id": "4ZGTg9fnV2sk"
      },
      "source": [
        "### Table Generator"
      ]
    },
    {
      "cell_type": "code",
      "metadata": {
        "id": "r_6RVxy8kDTb"
      },
      "source": [
        "def vigenerTable():\n",
        "  table = np.zeros(shape=(10,10), dtype='uint64')\n",
        "\n",
        "  for n in range(10):\n",
        "    row = []\n",
        "    for i in range(10):\n",
        "      row.append((i+n)%10)\n",
        "    table[n] = row\n",
        "\n",
        "  return table"
      ],
      "execution_count": 122,
      "outputs": []
    },
    {
      "cell_type": "code",
      "metadata": {
        "colab": {
          "base_uri": "https://localhost:8080/",
          "height": 399
        },
        "id": "Q3QRVGSnny5R",
        "outputId": "bfaec26f-8463-4ed8-b899-5a6886239cdf"
      },
      "source": [
        "print(\"New Vigenere Page:\\n\")\n",
        "vTable = vigenerTable()\n",
        "\n",
        "pd.DataFrame(data=vTable[:,:],    \n",
        "             index=vTable[0:,0],    \n",
        "             columns=vTable[0,0:])"
      ],
      "execution_count": 130,
      "outputs": [
        {
          "output_type": "stream",
          "text": [
            "New Vigenere Page:\n",
            "\n"
          ],
          "name": "stdout"
        },
        {
          "output_type": "execute_result",
          "data": {
            "text/html": [
              "<div>\n",
              "<style scoped>\n",
              "    .dataframe tbody tr th:only-of-type {\n",
              "        vertical-align: middle;\n",
              "    }\n",
              "\n",
              "    .dataframe tbody tr th {\n",
              "        vertical-align: top;\n",
              "    }\n",
              "\n",
              "    .dataframe thead th {\n",
              "        text-align: right;\n",
              "    }\n",
              "</style>\n",
              "<table border=\"1\" class=\"dataframe\">\n",
              "  <thead>\n",
              "    <tr style=\"text-align: right;\">\n",
              "      <th></th>\n",
              "      <th>0</th>\n",
              "      <th>1</th>\n",
              "      <th>2</th>\n",
              "      <th>3</th>\n",
              "      <th>4</th>\n",
              "      <th>5</th>\n",
              "      <th>6</th>\n",
              "      <th>7</th>\n",
              "      <th>8</th>\n",
              "      <th>9</th>\n",
              "    </tr>\n",
              "  </thead>\n",
              "  <tbody>\n",
              "    <tr>\n",
              "      <th>0</th>\n",
              "      <td>0</td>\n",
              "      <td>1</td>\n",
              "      <td>2</td>\n",
              "      <td>3</td>\n",
              "      <td>4</td>\n",
              "      <td>5</td>\n",
              "      <td>6</td>\n",
              "      <td>7</td>\n",
              "      <td>8</td>\n",
              "      <td>9</td>\n",
              "    </tr>\n",
              "    <tr>\n",
              "      <th>1</th>\n",
              "      <td>1</td>\n",
              "      <td>2</td>\n",
              "      <td>3</td>\n",
              "      <td>4</td>\n",
              "      <td>5</td>\n",
              "      <td>6</td>\n",
              "      <td>7</td>\n",
              "      <td>8</td>\n",
              "      <td>9</td>\n",
              "      <td>0</td>\n",
              "    </tr>\n",
              "    <tr>\n",
              "      <th>2</th>\n",
              "      <td>2</td>\n",
              "      <td>3</td>\n",
              "      <td>4</td>\n",
              "      <td>5</td>\n",
              "      <td>6</td>\n",
              "      <td>7</td>\n",
              "      <td>8</td>\n",
              "      <td>9</td>\n",
              "      <td>0</td>\n",
              "      <td>1</td>\n",
              "    </tr>\n",
              "    <tr>\n",
              "      <th>3</th>\n",
              "      <td>3</td>\n",
              "      <td>4</td>\n",
              "      <td>5</td>\n",
              "      <td>6</td>\n",
              "      <td>7</td>\n",
              "      <td>8</td>\n",
              "      <td>9</td>\n",
              "      <td>0</td>\n",
              "      <td>1</td>\n",
              "      <td>2</td>\n",
              "    </tr>\n",
              "    <tr>\n",
              "      <th>4</th>\n",
              "      <td>4</td>\n",
              "      <td>5</td>\n",
              "      <td>6</td>\n",
              "      <td>7</td>\n",
              "      <td>8</td>\n",
              "      <td>9</td>\n",
              "      <td>0</td>\n",
              "      <td>1</td>\n",
              "      <td>2</td>\n",
              "      <td>3</td>\n",
              "    </tr>\n",
              "    <tr>\n",
              "      <th>5</th>\n",
              "      <td>5</td>\n",
              "      <td>6</td>\n",
              "      <td>7</td>\n",
              "      <td>8</td>\n",
              "      <td>9</td>\n",
              "      <td>0</td>\n",
              "      <td>1</td>\n",
              "      <td>2</td>\n",
              "      <td>3</td>\n",
              "      <td>4</td>\n",
              "    </tr>\n",
              "    <tr>\n",
              "      <th>6</th>\n",
              "      <td>6</td>\n",
              "      <td>7</td>\n",
              "      <td>8</td>\n",
              "      <td>9</td>\n",
              "      <td>0</td>\n",
              "      <td>1</td>\n",
              "      <td>2</td>\n",
              "      <td>3</td>\n",
              "      <td>4</td>\n",
              "      <td>5</td>\n",
              "    </tr>\n",
              "    <tr>\n",
              "      <th>7</th>\n",
              "      <td>7</td>\n",
              "      <td>8</td>\n",
              "      <td>9</td>\n",
              "      <td>0</td>\n",
              "      <td>1</td>\n",
              "      <td>2</td>\n",
              "      <td>3</td>\n",
              "      <td>4</td>\n",
              "      <td>5</td>\n",
              "      <td>6</td>\n",
              "    </tr>\n",
              "    <tr>\n",
              "      <th>8</th>\n",
              "      <td>8</td>\n",
              "      <td>9</td>\n",
              "      <td>0</td>\n",
              "      <td>1</td>\n",
              "      <td>2</td>\n",
              "      <td>3</td>\n",
              "      <td>4</td>\n",
              "      <td>5</td>\n",
              "      <td>6</td>\n",
              "      <td>7</td>\n",
              "    </tr>\n",
              "    <tr>\n",
              "      <th>9</th>\n",
              "      <td>9</td>\n",
              "      <td>0</td>\n",
              "      <td>1</td>\n",
              "      <td>2</td>\n",
              "      <td>3</td>\n",
              "      <td>4</td>\n",
              "      <td>5</td>\n",
              "      <td>6</td>\n",
              "      <td>7</td>\n",
              "      <td>8</td>\n",
              "    </tr>\n",
              "  </tbody>\n",
              "</table>\n",
              "</div>"
            ],
            "text/plain": [
              "   0  1  2  3  4  5  6  7  8  9\n",
              "0  0  1  2  3  4  5  6  7  8  9\n",
              "1  1  2  3  4  5  6  7  8  9  0\n",
              "2  2  3  4  5  6  7  8  9  0  1\n",
              "3  3  4  5  6  7  8  9  0  1  2\n",
              "4  4  5  6  7  8  9  0  1  2  3\n",
              "5  5  6  7  8  9  0  1  2  3  4\n",
              "6  6  7  8  9  0  1  2  3  4  5\n",
              "7  7  8  9  0  1  2  3  4  5  6\n",
              "8  8  9  0  1  2  3  4  5  6  7\n",
              "9  9  0  1  2  3  4  5  6  7  8"
            ]
          },
          "metadata": {
            "tags": []
          },
          "execution_count": 130
        }
      ]
    },
    {
      "cell_type": "markdown",
      "metadata": {
        "id": "tSghdUdQFKBP"
      },
      "source": [
        "---"
      ]
    },
    {
      "cell_type": "markdown",
      "metadata": {
        "id": "E1jSl7c1uGU3"
      },
      "source": [
        "### Encryption:\n",
        "\n",
        "column corresponds to the plain text  \n",
        "row corresponds to the key  \n",
        "result is the ciphertext value for a particular plaintext char.  "
      ]
    },
    {
      "cell_type": "code",
      "metadata": {
        "id": "f27gPspGool1"
      },
      "source": [
        "def encrypt(message, key):\n",
        "  textLen = len(message)\n",
        "  keyLen = len(key)\n",
        "  \n",
        "  table = vigenerTable()\n",
        "\n",
        "  cipherText = \"\"\n",
        "  for pos in range(textLen):\n",
        "    \n",
        "    colNum = int(message[pos])\n",
        "    rowNum = int(key[pos % keyLen])\n",
        "\n",
        "    codeChar = table[colNum, rowNum]\n",
        "    if (pos+1)%2 == 0:\n",
        "      codeChar = table[codeChar, rowNum]\n",
        "    \n",
        "    cipherText += str(codeChar)\n",
        "  return cipherText\n"
      ],
      "execution_count": 131,
      "outputs": []
    },
    {
      "cell_type": "markdown",
      "metadata": {
        "id": "L8LgBeFdFLlb"
      },
      "source": [
        "### Decryption"
      ]
    },
    {
      "cell_type": "code",
      "metadata": {
        "id": "mQIYikloFJT2"
      },
      "source": [
        "def decrypt(cipherText, key):\n",
        "  textLen = len(cipherText)\n",
        "  keyLen = len(key)\n",
        "  \n",
        "  table = vigenerTable()\n",
        "\n",
        "  message = \"\"\n",
        "  for pos in range(textLen):\n",
        "    rowNum = int(key[pos % keyLen])\n",
        "    colVal = int(cipherText[pos])\n",
        "    row = list(table[rowNum])\n",
        "\n",
        "    plain = row.index(colVal)\n",
        "    if (pos+1)%2 == 0:\n",
        "      plain = row.index(plain)\n",
        "    \n",
        "    message += str(plain)\n",
        "  \n",
        "  return message\n"
      ],
      "execution_count": 132,
      "outputs": []
    },
    {
      "cell_type": "markdown",
      "metadata": {
        "id": "1DMXwwpDWCPR"
      },
      "source": [
        "---"
      ]
    },
    {
      "cell_type": "markdown",
      "metadata": {
        "id": "7oA9Yb9ibIMK"
      },
      "source": [
        "### Sample Implementation"
      ]
    },
    {
      "cell_type": "code",
      "metadata": {
        "colab": {
          "base_uri": "https://localhost:8080/"
        },
        "id": "0toTKxaWWDb0",
        "outputId": "565ab1c0-03ad-4538-8024-8057c7d15c87"
      },
      "source": [
        "## IMPLEMENTATION\n",
        "plainText = str(pow(10,16))\n",
        "key = '0433'\n",
        "\n",
        "# Encryption\n",
        "cipherText = encrypt(plainText, key)\n",
        "print(\"After Enctryption: \\n \\\n",
        "1. Plaintext: {}\\n 2. Key: {} \\n\\n\\\n",
        "=> Ciphertext: {}\".format(plainText, key, cipherText))\n",
        "\n",
        "# Decryption\n",
        "message = decrypt(cipherText, key)\n",
        "print(\"\\n\\nAfter Dectryption: \\n \\\n",
        "1. Ciphertext: {}\\n 2. Key: {} \\n\\n\\\n",
        "=> Retrieved Plaintext: {}\".format(cipherText, key, message))\n",
        "\n",
        "print(\"\\n\"+\"=\"*40)\n",
        "# Varification\n",
        "print(\"\\nWhether actual & retrived messages are same?\", end=\"  \")\n",
        "print('Yes' if plainText == message else 'No')"
      ],
      "execution_count": 133,
      "outputs": [
        {
          "output_type": "stream",
          "text": [
            "After Enctryption: \n",
            " 1. Plaintext: 10000000000000000\n",
            " 2. Key: 0433 \n",
            "\n",
            "=> Ciphertext: 18360836083608360\n",
            "\n",
            "\n",
            "After Dectryption: \n",
            " 1. Ciphertext: 18360836083608360\n",
            " 2. Key: 0433 \n",
            "\n",
            "=> Retrieved Plaintext: 10000000000000000\n",
            "\n",
            "========================================\n",
            "\n",
            "Whether actual & retrived messages are same?  Yes\n"
          ],
          "name": "stdout"
        }
      ]
    },
    {
      "cell_type": "markdown",
      "metadata": {
        "id": "ZK7S8Z1LNwz2"
      },
      "source": [
        "## **Driver Code**"
      ]
    },
    {
      "cell_type": "code",
      "metadata": {
        "id": "Wsl70D45ORQ1"
      },
      "source": [
        "def menu():\n",
        "  menuItems = \"MAIN MENU\\n\"+\"-\"*9+\"\\n1) Encrypt \\n2) Decrypt \\n** Any other key to exit \\n\\n Your choice: \"\n",
        "  ch = input(menuItems)\n",
        "  return ch"
      ],
      "execution_count": 134,
      "outputs": []
    },
    {
      "cell_type": "code",
      "metadata": {
        "colab": {
          "base_uri": "https://localhost:8080/"
        },
        "id": "pgogapAFNu-N",
        "outputId": "37b2872c-a782-4bda-c3df-825de9e5cfd9"
      },
      "source": [
        "if __name__ == '__main__':\n",
        "  heading = \"  Welcome to a MODIFIED VIGENERE CIPHER  \"\n",
        "  HEADER = heading+\"\\n\"+\"=\"*len(heading)+\"\\n\\n\"\n",
        "  print(HEADER)\n",
        "\n",
        "  ################################\n",
        "\n",
        "  separator = '#'*12\n",
        "\n",
        "  while True: \n",
        "    choice = menu()\n",
        "    \n",
        "    ## Decision\n",
        "    if choice == '1':\n",
        "      # Code to Encrypt\n",
        "      plainText = input('Enter the message (numaric): ')\n",
        "      providedKey = input('Enter the encryption key (numeric): ')\n",
        "      cipherText = encrypt(plainText, providedKey)\n",
        "\n",
        "      print(\"\\nCyphertext = {}\".format(cipherText))\n",
        "      print(\"\\n{}\\n\".format(separator))\n",
        "    \n",
        "    elif choice == '2':\n",
        "      # Code to Decrypt\n",
        "      cipherText = input('Enter the ciphertext : ')\n",
        "      providedKey = input('Enter the decryption key (numeric): ')\n",
        "      plainText = decrypt(cipherText, providedKey)\n",
        "\n",
        "      print(\"\\nPlaintext = {}\".format(plainText))\n",
        "      print(\"\\n{}\\n\".format(separator))\n",
        "    \n",
        "    else:\n",
        "      # Code to Encrypt\n",
        "      print(\"\\n{}\\n\".format(separator))\n",
        "      print(\"Exiting...\")\n",
        "      break\n"
      ],
      "execution_count": 139,
      "outputs": [
        {
          "output_type": "stream",
          "text": [
            "  Welcome to a MODIFIED VIGENERE CIPHER  \n",
            "=========================================\n",
            "\n",
            "\n",
            "MAIN MENU\n",
            "---------\n",
            "1) Encrypt \n",
            "2) Decrypt \n",
            "** Any other key to exit \n",
            "\n",
            " Your choice: 1\n",
            "Enter the message (numaric): 389479342\n",
            "Enter the encryption key (numeric): 358\n",
            "\n",
            "Cyphertext = 687025640\n",
            "\n",
            "############\n",
            "\n",
            "MAIN MENU\n",
            "---------\n",
            "1) Encrypt \n",
            "2) Decrypt \n",
            "** Any other key to exit \n",
            "\n",
            " Your choice: 2\n",
            "Enter the ciphertext : 687025640\n",
            "Enter the decryption key (numeric): 358\n",
            "\n",
            "Plaintext = 389479342\n",
            "\n",
            "############\n",
            "\n",
            "MAIN MENU\n",
            "---------\n",
            "1) Encrypt \n",
            "2) Decrypt \n",
            "** Any other key to exit \n",
            "\n",
            " Your choice: \n",
            "\n",
            "############\n",
            "\n",
            "Exiting...\n"
          ],
          "name": "stdout"
        }
      ]
    }
  ]
}
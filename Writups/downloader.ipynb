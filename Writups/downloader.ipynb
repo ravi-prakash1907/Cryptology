{
 "cells": [
  {
   "cell_type": "markdown",
   "metadata": {},
   "source": [
    "  \n",
    "# IIITM-K Live Presentation Downloader \n",
    "\n",
    "---"
   ]
  },
  {
   "cell_type": "markdown",
   "metadata": {},
   "source": [
    "### Libraries"
   ]
  },
  {
   "cell_type": "code",
   "execution_count": 6,
   "metadata": {},
   "outputs": [],
   "source": [
    "import requests # to get image from the web\n",
    "import PyPDF2\n",
    "from svglib.svglib import svg2rlg\n",
    "from reportlab.graphics import renderPDF\n",
    "from requests.exceptions import HTTPError"
   ]
  },
  {
   "cell_type": "markdown",
   "metadata": {},
   "source": [
    "### Defaults"
   ]
  },
  {
   "cell_type": "code",
   "execution_count": 7,
   "metadata": {},
   "outputs": [],
   "source": [
    "#imagePrefix = \"https://iiitmk.in/bigbluebutton/presentation/810222974f73722d531d1bb037dc39413af2f7b0-1604373053359/810222974f73722d531d1bb037dc39413af2f7b0-1604373053359/8857bc5abe38077cbbea8b1814cc7394f506e06f-1604373673098/svg/\"\n",
    "#num = 1"
   ]
  },
  {
   "cell_type": "markdown",
   "metadata": {},
   "source": [
    "### Inputs"
   ]
  },
  {
   "cell_type": "code",
   "execution_count": 8,
   "metadata": {},
   "outputs": [
    {
     "name": "stdin",
     "output_type": "stream",
     "text": [
      "Link to the svg folder: https://iiitmk.in/bigbluebutton/presentation/c97e52cca040bdf56523c54fa882b814303f1687-1604632755742/c97e52cca040bdf56523c54fa882b814303f1687-1604632755742/9cbccb559ce675025019c0ca6c2401d8cc104774-1604640630845/svg/\n",
      "Enter the name of PDF i.e. to be saved (without .pdf extention):  lab5-que\n",
      "Enter the initial slide number:  1\n"
     ]
    }
   ],
   "source": [
    "imagePrefix = str(input(\"Link to the svg folder:\"))\n",
    "if imagePrefix[-1] != \"/\":\n",
    "    imagePrefix += '/'\n",
    "opName = str(input(\"Enter the name of PDF i.e. to be saved (without .pdf extention): \"))\n",
    "num = int(input(\"Enter the initial slide number: \"))"
   ]
  },
  {
   "cell_type": "markdown",
   "metadata": {},
   "source": [
    "### Creating New File(s)"
   ]
  },
  {
   "cell_type": "code",
   "execution_count": 9,
   "metadata": {},
   "outputs": [],
   "source": [
    "pdfWriter = PyPDF2.PdfFileWriter()\n",
    "pdfOutputFile = open(opName+'.pdf', 'wb') "
   ]
  },
  {
   "cell_type": "markdown",
   "metadata": {},
   "source": [
    "### Downloading"
   ]
  },
  {
   "cell_type": "code",
   "execution_count": 10,
   "metadata": {},
   "outputs": [
    {
     "name": "stdout",
     "output_type": "stream",
     "text": [
      "Downloaded slide  1\n",
      "Downloaded slide  2\n",
      "Downloaded slide  3\n",
      "Downloaded slide  4\n",
      "Downloaded slide  5\n",
      "Downloaded slide  6\n",
      "Downloaded slide  7\n",
      "Downloaded slide  8\n",
      "Downloaded slide  9\n",
      "Downloaded slide  10\n",
      "Downloaded slide  11\n",
      "Downloaded slide  12\n",
      "Downloaded slide  13\n",
      "Downloaded slide  14\n",
      "Downloaded slide  15\n",
      "Downloaded slide  16\n",
      "Downloaded slide  17\n",
      "Stopping\n",
      "Pdf is up!!\n"
     ]
    }
   ],
   "source": [
    "while True:\n",
    "    try:\n",
    "        filename = str(num)\n",
    "        url = imagePrefix + filename\n",
    "        r = requests.get(url, stream = True)\n",
    "        r.raise_for_status()\n",
    "    except HTTPError:\n",
    "        pdfOutputFile.close()\n",
    "        !rm temp.pdf\n",
    "        print('Stopping')\n",
    "        break\n",
    "    else:\n",
    "        r.raw.decode_content = True\n",
    "        drawing = svg2rlg(r.raw)\n",
    "        renderPDF.drawToFile(drawing, 'temp.pdf')\n",
    "        # compressPDF('temp.pdf')\n",
    "        pdfPage = open('temp.pdf', 'rb') # open in read mode\n",
    "        pdfReader = PyPDF2.PdfFileReader(pdfPage)\n",
    "        for pageNum in range(pdfReader.numPages):\n",
    "            pageObj = pdfReader.getPage(pageNum)\n",
    "            pdfWriter.addPage(pageObj)\n",
    "            pdfWriter.write(pdfOutputFile)\n",
    "            pdfPage.close()\n",
    "        print('Downloaded slide ',num)\n",
    "        num += 1\n",
    "\n",
    "####################################\n",
    "\n",
    "print(\"Pdf is up!!\")"
   ]
  },
  {
   "cell_type": "code",
   "execution_count": 8,
   "metadata": {},
   "outputs": [],
   "source": [
    "import urllib.request\n",
    "import shutil\n",
    "\n",
    "url = \"https://iiitmk.in/bigbluebutton/presentation/c97e52cca040bdf56523c54fa882b814303f1687-1604027692694/c97e52cca040bdf56523c54fa882b814303f1687-1604027692694/9b95864e2486e2e2d776f976c0486367951de3b8-1604027810664/svg/20\"\n",
    "urllib.request.urlretrieve(url, 'pic1.svg')\n",
    "\n",
    "\n",
    "r = requests.get(url, stream = True)\n",
    "with open('pic2.svg', 'wb') as f:\n",
    "    r.raw.decode_content = True\n",
    "    shutil.copyfileobj(r.raw, f)"
   ]
  },
  {
   "cell_type": "markdown",
   "metadata": {},
   "source": [
    "---  \n",
    "\n",
    "<br /><br /><br /><br />"
   ]
  },
  {
   "cell_type": "markdown",
   "metadata": {},
   "source": [
    "---\n",
    "\n",
    "### Libraries"
   ]
  },
  {
   "cell_type": "code",
   "execution_count": 4,
   "metadata": {},
   "outputs": [],
   "source": [
    "import requests # to get image from the web\n",
    "import PyPDF2\n",
    "from svglib.svglib import svg2rlg\n",
    "from reportlab.graphics import renderPDF\n",
    "from requests.exceptions import HTTPError"
   ]
  },
  {
   "cell_type": "markdown",
   "metadata": {},
   "source": [
    "### Defaults"
   ]
  },
  {
   "cell_type": "code",
   "execution_count": 8,
   "metadata": {},
   "outputs": [],
   "source": [
    "#imagePrefix = \"https://iiitmk.in/bigbluebutton/presentation/810222974f73722d531d1bb037dc39413af2f7b0-1603768399914/810222974f73722d531d1bb037dc39413af2f7b0-1603768399914/c61c612b4583dcf57f29b6b149cedbd61b3082df-1603771038794/svg/\"\n",
    "#num = 1"
   ]
  },
  {
   "cell_type": "markdown",
   "metadata": {},
   "source": [
    "### Inputs"
   ]
  },
  {
   "cell_type": "code",
   "execution_count": 9,
   "metadata": {},
   "outputs": [
    {
     "name": "stdin",
     "output_type": "stream",
     "text": [
      "Link to the svg folder: https://iiitmk.in/bigbluebutton/presentation/c97e52cca040bdf56523c54fa882b814303f1687-1604027692694/c97e52cca040bdf56523c54fa882b814303f1687-1604027692694/6dab6036e84d7ec449ab7bb1ca41c1b5dae6074e-1604038993925/svg/\n",
      "Enter the name of PDF i.e. to be saved (without .pdf extention):  pyProgSess1Lab4\n",
      "Enter the initial slide number:  1\n"
     ]
    }
   ],
   "source": [
    "imagePrefix = str(input(\"Link to the svg folder:\"))\n",
    "if imagePrefix[-1] != \"/\":\n",
    "    imagePrefix += '/'\n",
    "opName = str(input(\"Enter the name of PDF i.e. to be saved (without .pdf extention): \"))\n",
    "num = int(input(\"Enter the initial slide number: \"))"
   ]
  },
  {
   "cell_type": "markdown",
   "metadata": {},
   "source": [
    "### Creating New File(s)"
   ]
  },
  {
   "cell_type": "code",
   "execution_count": 10,
   "metadata": {},
   "outputs": [],
   "source": [
    "pdfWriter = PyPDF2.PdfFileWriter()\n",
    "pdfOutputFile = open(opName+'.pdf', 'wb') "
   ]
  },
  {
   "cell_type": "markdown",
   "metadata": {},
   "source": [
    "### Downloading"
   ]
  },
  {
   "cell_type": "code",
   "execution_count": 11,
   "metadata": {},
   "outputs": [
    {
     "name": "stdout",
     "output_type": "stream",
     "text": [
      "Downloaded slide  1\n",
      "Downloaded slide  2\n",
      "Downloaded slide  3\n",
      "Downloaded slide  4\n",
      "Downloaded slide  5\n",
      "Downloaded slide  6\n",
      "Downloaded slide  7\n",
      "Downloaded slide  8\n",
      "Downloaded slide  9\n",
      "Downloaded slide  10\n",
      "Downloaded slide  11\n",
      "Downloaded slide  12\n",
      "Downloaded slide  13\n",
      "Downloaded slide  14\n",
      "Downloaded slide  15\n",
      "Downloaded slide  16\n",
      "Downloaded slide  17\n",
      "Downloaded slide  18\n",
      "Downloaded slide  19\n",
      "Downloaded slide  20\n",
      "Stopping\n",
      "Pdf is up!!\n"
     ]
    }
   ],
   "source": [
    "while True:\n",
    "    try:\n",
    "        filename = str(num)\n",
    "        url = imagePrefix + filename\n",
    "        r = requests.get(url, stream = True)\n",
    "        r.raise_for_status()\n",
    "    except HTTPError:\n",
    "        pdfOutputFile.close()\n",
    "        !rm temp.pdf\n",
    "        print('Stopping')\n",
    "        break\n",
    "    else:\n",
    "        r.raw.decode_content = True\n",
    "        drawing = svg2rlg(r.raw)\n",
    "        renderPDF.drawToFile(drawing, 'temp.pdf')\n",
    "        # compressPDF('temp.pdf')\n",
    "        pdfPage = open('temp.pdf', 'rb') # open in read mode\n",
    "        pdfReader = PyPDF2.PdfFileReader(pdfPage)\n",
    "        for pageNum in range(pdfReader.numPages):\n",
    "            pageObj = pdfReader.getPage(pageNum)\n",
    "            pdfWriter.addPage(pageObj)\n",
    "            pdfWriter.write(pdfOutputFile)\n",
    "            pdfPage.close()\n",
    "        print('Downloaded slide ',num)\n",
    "        num += 1\n",
    "\n",
    "####################################\n",
    "\n",
    "print(\"Pdf is up!!\")"
   ]
  }
 ],
 "metadata": {
  "kernelspec": {
   "display_name": "Python 3",
   "language": "python",
   "name": "python3"
  },
  "language_info": {
   "codemirror_mode": {
    "name": "ipython",
    "version": 3
   },
   "file_extension": ".py",
   "mimetype": "text/x-python",
   "name": "python",
   "nbconvert_exporter": "python",
   "pygments_lexer": "ipython3",
   "version": "3.8.3"
  }
 },
 "nbformat": 4,
 "nbformat_minor": 4
}

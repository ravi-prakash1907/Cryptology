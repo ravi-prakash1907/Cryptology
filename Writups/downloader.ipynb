{
  "nbformat": 4,
  "nbformat_minor": 0,
  "metadata": {
    "kernelspec": {
      "display_name": "Python 3",
      "language": "python",
      "name": "python3"
    },
    "language_info": {
      "codemirror_mode": {
        "name": "ipython",
        "version": 3
      },
      "file_extension": ".py",
      "mimetype": "text/x-python",
      "name": "python",
      "nbconvert_exporter": "python",
      "pygments_lexer": "ipython3",
      "version": "3.8.3"
    },
    "colab": {
      "name": "downloader.ipynb",
      "provenance": [],
      "include_colab_link": true
    }
  },
  "cells": [
    {
      "cell_type": "markdown",
      "metadata": {
        "id": "view-in-github",
        "colab_type": "text"
      },
      "source": [
        "<a href=\"https://colab.research.google.com/github/ravi-prakash1907/Cryptology/blob/main/Writups/downloader.ipynb\" target=\"_parent\"><img src=\"https://colab.research.google.com/assets/colab-badge.svg\" alt=\"Open In Colab\"/></a>"
      ]
    },
    {
      "cell_type": "markdown",
      "metadata": {
        "id": "bpe2-zzPgu8u"
      },
      "source": [
        "# **IIITM-K Live Presentation Downloader**\n",
        "\n",
        "---"
      ]
    },
    {
      "cell_type": "markdown",
      "metadata": {
        "id": "SQf4R4ypaPZc"
      },
      "source": [
        "# Requirements"
      ]
    },
    {
      "cell_type": "markdown",
      "metadata": {
        "id": "-VdFbm2TVM32"
      },
      "source": [
        "## Libraries"
      ]
    },
    {
      "cell_type": "markdown",
      "metadata": {
        "id": "O5gGQHkcgu8w"
      },
      "source": [
        "### Installing Dependencies"
      ]
    },
    {
      "cell_type": "code",
      "metadata": {
        "id": "CG2CCvWlg_aK",
        "colab": {
          "base_uri": "https://localhost:8080/"
        },
        "outputId": "c742253e-d961-4442-eebb-4727f141e7c9"
      },
      "source": [
        "!pip install PyPDF2\n",
        "!pip install svglib"
      ],
      "execution_count": 6,
      "outputs": [
        {
          "output_type": "stream",
          "text": [
            "Collecting PyPDF2\n",
            "  Downloading PyPDF2-1.26.0.tar.gz (77 kB)\n",
            "\u001b[?25l\r\u001b[K     |████▎                           | 10 kB 21.3 MB/s eta 0:00:01\r\u001b[K     |████████▌                       | 20 kB 26.1 MB/s eta 0:00:01\r\u001b[K     |████████████▊                   | 30 kB 11.3 MB/s eta 0:00:01\r\u001b[K     |█████████████████               | 40 kB 9.0 MB/s eta 0:00:01\r\u001b[K     |█████████████████████▏          | 51 kB 5.1 MB/s eta 0:00:01\r\u001b[K     |█████████████████████████▍      | 61 kB 5.6 MB/s eta 0:00:01\r\u001b[K     |█████████████████████████████▋  | 71 kB 6.0 MB/s eta 0:00:01\r\u001b[K     |████████████████████████████████| 77 kB 3.1 MB/s \n",
            "\u001b[?25hBuilding wheels for collected packages: PyPDF2\n",
            "  Building wheel for PyPDF2 (setup.py) ... \u001b[?25l\u001b[?25hdone\n",
            "  Created wheel for PyPDF2: filename=PyPDF2-1.26.0-py3-none-any.whl size=61100 sha256=1fb3eb07dd4f46585b4aa53cee23d30069fd86c2bb17a04313cb1e223f950803\n",
            "  Stored in directory: /root/.cache/pip/wheels/80/1a/24/648467ade3a77ed20f35cfd2badd32134e96dd25ca811e64b3\n",
            "Successfully built PyPDF2\n",
            "Installing collected packages: PyPDF2\n",
            "Successfully installed PyPDF2-1.26.0\n",
            "Requirement already satisfied: svglib in /usr/local/lib/python3.7/dist-packages (1.1.0)\n",
            "Requirement already satisfied: reportlab in /usr/local/lib/python3.7/dist-packages (from svglib) (3.5.68)\n",
            "Requirement already satisfied: cssselect2>=0.2.0 in /usr/local/lib/python3.7/dist-packages (from svglib) (0.4.1)\n",
            "Requirement already satisfied: tinycss2>=0.6.0 in /usr/local/lib/python3.7/dist-packages (from svglib) (1.1.0)\n",
            "Requirement already satisfied: lxml in /usr/local/lib/python3.7/dist-packages (from svglib) (4.2.6)\n",
            "Requirement already satisfied: webencodings in /usr/local/lib/python3.7/dist-packages (from cssselect2>=0.2.0->svglib) (0.5.1)\n",
            "Requirement already satisfied: pillow>=4.0.0 in /usr/local/lib/python3.7/dist-packages (from reportlab->svglib) (7.1.2)\n"
          ],
          "name": "stdout"
        }
      ]
    },
    {
      "cell_type": "markdown",
      "metadata": {
        "id": "_adAY8QGXERu"
      },
      "source": [
        "### Importing Lib."
      ]
    },
    {
      "cell_type": "code",
      "metadata": {
        "id": "RPtHx6Xdgu8x"
      },
      "source": [
        "import os\n",
        "import urllib.request\n",
        "from svglib.svglib import svg2rlg\n",
        "from reportlab.graphics import renderPDF, renderPM\n",
        "from PyPDF2 import PdfFileMerger\n",
        "from datetime import date,datetime\n",
        "from urllib.error import URLError, HTTPError"
      ],
      "execution_count": 41,
      "outputs": []
    },
    {
      "cell_type": "markdown",
      "metadata": {
        "id": "WrQfTO-ugu85"
      },
      "source": [
        "## Downloader"
      ]
    },
    {
      "cell_type": "code",
      "metadata": {
        "id": "Iadkwy6WMG6I"
      },
      "source": [
        "class lectureSlideDown:\n",
        "  def __init__(self):\n",
        "    self.source_dir = 'newPdf' \n",
        "  ## to merge pdf\n",
        "  def mergePdf(self):\n",
        "    source_dir = self.source_dir\n",
        "    merger = PdfFileMerger()\n",
        "    lecSlide= str(date.today())+'.pdf'\n",
        "    slides = os.listdir('newPdf')\n",
        "    slides.sort()\n",
        "    for slide in slides:\n",
        "      slide = \"./newPdf/\"+slide\n",
        "      if slide.endswith('pdf'):\n",
        "        merger.append(slide)\n",
        "    \n",
        "    merger.write(lecSlide)\n",
        "    merger.close()\n",
        "    return lecSlide\n",
        "\n",
        "  def pdfDownloader(self,url):\n",
        "    i=0\n",
        "    while True:\n",
        "      i=i+1\n",
        "      y=url+str(i)\n",
        "      #print(y)  # uncomment to see currently downloading slide\n",
        "      z='newPdf/'+str(i)+'.svg'\n",
        "      try:\n",
        "        urllib.request.urlretrieve(y,z)\n",
        "        t='newPdf/'+str(i)+'.svg'\n",
        "        if i<10:\n",
        "            pdf='newPdf/0'+str(i)+\".pdf\"\n",
        "        else:\n",
        "            pdf='newPdf/'+str(i)+'.pdf'\n",
        "        drawing = svg2rlg(t)\n",
        "        renderPDF.drawToFile(drawing, pdf)\n",
        "        os.remove(z) \n",
        "      except HTTPError as e:\n",
        "        print(\"Joining slides!\")\n",
        "        fname = self.mergePdf()\n",
        "\n",
        "        print(\"Downloaded successfully as\",lecSlide,\"...\")\n",
        "        break\n",
        "      except URLError as e:\n",
        "        print(\"url error\")\n",
        "        break\n",
        "      except:\n",
        "        print(z)\n",
        "  \n",
        "  def run(self):\n",
        "    os.mkdir(self.source_dir)\n",
        "    url=input(\"Enter the URL (without ending number): \")\n",
        "    self.pdfDownloader(url)"
      ],
      "execution_count": 42,
      "outputs": []
    },
    {
      "cell_type": "markdown",
      "metadata": {
        "id": "t4TDaBnJZH3C"
      },
      "source": [
        "# App"
      ]
    },
    {
      "cell_type": "code",
      "metadata": {
        "id": "1KlkHTG5ZLft"
      },
      "source": [
        "if __name__ == '__main__':\n",
        "  ld = lectureSlideDown()\n",
        "  ld.run()"
      ],
      "execution_count": null,
      "outputs": []
    },
    {
      "cell_type": "code",
      "metadata": {
        "id": "WFo4w6cWMhQL",
        "outputId": "e8bfa100-a2aa-42c9-ed3a-656a0d0a5a59",
        "colab": {
          "base_uri": "https://localhost:8080/"
        }
      },
      "source": [
        "## remove traces\n",
        "!rm -rf newPdf"
      ],
      "execution_count": 16,
      "outputs": [
        {
          "output_type": "stream",
          "text": [
            "mkdir: cannot create directory ‘newPdf’: File exists\n"
          ],
          "name": "stdout"
        }
      ]
    },
    {
      "cell_type": "markdown",
      "metadata": {
        "id": "j_01B6vWaCh9"
      },
      "source": [
        "---"
      ]
    }
  ]
}
{
  "nbformat": 4,
  "nbformat_minor": 0,
  "metadata": {
    "kernelspec": {
      "display_name": "Python 3",
      "language": "python",
      "name": "python3"
    },
    "language_info": {
      "codemirror_mode": {
        "name": "ipython",
        "version": 3
      },
      "file_extension": ".py",
      "mimetype": "text/x-python",
      "name": "python",
      "nbconvert_exporter": "python",
      "pygments_lexer": "ipython3",
      "version": "3.8.3"
    },
    "colab": {
      "name": "downloader.ipynb",
      "provenance": [],
      "include_colab_link": true
    }
  },
  "cells": [
    {
      "cell_type": "markdown",
      "metadata": {
        "id": "view-in-github",
        "colab_type": "text"
      },
      "source": [
        "<a href=\"https://colab.research.google.com/github/ravi-prakash1907/Cryptology/blob/main/Writups/downloader.ipynb\" target=\"_parent\"><img src=\"https://colab.research.google.com/assets/colab-badge.svg\" alt=\"Open In Colab\"/></a>"
      ]
    },
    {
      "cell_type": "code",
      "metadata": {
        "colab": {
          "base_uri": "https://localhost:8080/"
        },
        "id": "DWjNb_EFB8Gd",
        "outputId": "30105226-e407-44be-d1d9-d029ab0871e5"
      },
      "source": [
        "from google.colab import drive\n",
        "drive.mount('/content/drive/')"
      ],
      "execution_count": 1,
      "outputs": [
        {
          "output_type": "stream",
          "text": [
            "Mounted at /content/drive/\n"
          ],
          "name": "stdout"
        }
      ]
    },
    {
      "cell_type": "markdown",
      "metadata": {
        "id": "bpe2-zzPgu8u"
      },
      "source": [
        "  \n",
        "# IIITM-K Live Presentation Downloader \n",
        "\n",
        "---"
      ]
    },
    {
      "cell_type": "markdown",
      "metadata": {
        "id": "O5gGQHkcgu8w"
      },
      "source": [
        "### Libraries"
      ]
    },
    {
      "cell_type": "code",
      "metadata": {
        "id": "CG2CCvWlg_aK",
        "colab": {
          "base_uri": "https://localhost:8080/"
        },
        "outputId": "5d95947e-4ad0-4cb4-8f70-ab349c57bb1d"
      },
      "source": [
        "!pip install PyPDF2\n",
        "!pip install svglib"
      ],
      "execution_count": 2,
      "outputs": [
        {
          "output_type": "stream",
          "text": [
            "Collecting PyPDF2\n",
            "\u001b[?25l  Downloading https://files.pythonhosted.org/packages/b4/01/68fcc0d43daf4c6bdbc6b33cc3f77bda531c86b174cac56ef0ffdb96faab/PyPDF2-1.26.0.tar.gz (77kB)\n",
            "\r\u001b[K     |████▎                           | 10kB 12.5MB/s eta 0:00:01\r\u001b[K     |████████▌                       | 20kB 11.9MB/s eta 0:00:01\r\u001b[K     |████████████▊                   | 30kB 8.7MB/s eta 0:00:01\r\u001b[K     |█████████████████               | 40kB 7.4MB/s eta 0:00:01\r\u001b[K     |█████████████████████▏          | 51kB 4.5MB/s eta 0:00:01\r\u001b[K     |█████████████████████████▍      | 61kB 5.0MB/s eta 0:00:01\r\u001b[K     |█████████████████████████████▋  | 71kB 5.2MB/s eta 0:00:01\r\u001b[K     |████████████████████████████████| 81kB 2.4MB/s \n",
            "\u001b[?25hBuilding wheels for collected packages: PyPDF2\n",
            "  Building wheel for PyPDF2 (setup.py) ... \u001b[?25l\u001b[?25hdone\n",
            "  Created wheel for PyPDF2: filename=PyPDF2-1.26.0-cp36-none-any.whl size=61087 sha256=d54cd5fe5a622d0a9e42658801eb0e47ccae599661327a3475c8f1f04e80cc2b\n",
            "  Stored in directory: /root/.cache/pip/wheels/53/84/19/35bc977c8bf5f0c23a8a011aa958acd4da4bbd7a229315c1b7\n",
            "Successfully built PyPDF2\n",
            "Installing collected packages: PyPDF2\n",
            "Successfully installed PyPDF2-1.26.0\n",
            "Collecting svglib\n",
            "\u001b[?25l  Downloading https://files.pythonhosted.org/packages/5f/4c/13922d9f31ad50e0e0594a5b3904dbdae8bcbe7bdb5f53e02ca31a66a52a/svglib-1.0.1.tar.gz (900kB)\n",
            "\u001b[K     |████████████████████████████████| 901kB 4.6MB/s \n",
            "\u001b[?25hCollecting reportlab\n",
            "\u001b[?25l  Downloading https://files.pythonhosted.org/packages/fb/bb/b61ed50fb7f37d1951cdcf09f1784454fea1a74fb4579e1fdc5ad0ba93d8/reportlab-3.5.59-cp36-cp36m-manylinux2010_x86_64.whl (2.6MB)\n",
            "\u001b[K     |████████████████████████████████| 2.6MB 13.5MB/s \n",
            "\u001b[?25hRequirement already satisfied: lxml in /usr/local/lib/python3.6/dist-packages (from svglib) (4.2.6)\n",
            "Collecting tinycss2>=0.6.0\n",
            "  Downloading https://files.pythonhosted.org/packages/65/f7/63bf697a7c7257d304269b49f1be3dfe429856889e93963d6f5790d77d82/tinycss2-1.1.0-py3-none-any.whl\n",
            "Collecting cssselect2>=0.2.0\n",
            "  Downloading https://files.pythonhosted.org/packages/99/da/c86ec74495c69518720652f8aa8ab642d8af61a2098eede9db8b03d3c8b4/cssselect2-0.4.1-py3-none-any.whl\n",
            "Requirement already satisfied: pillow>=4.0.0 in /usr/local/lib/python3.6/dist-packages (from reportlab->svglib) (7.0.0)\n",
            "Requirement already satisfied: webencodings>=0.4 in /usr/local/lib/python3.6/dist-packages (from tinycss2>=0.6.0->svglib) (0.5.1)\n",
            "Building wheels for collected packages: svglib\n",
            "  Building wheel for svglib (setup.py) ... \u001b[?25l\u001b[?25hdone\n",
            "  Created wheel for svglib: filename=svglib-1.0.1-cp36-none-any.whl size=27171 sha256=f807cdbc9d00a9716fd28d2f8b2ec478d1c2593a9e96ce73edc96655879ba0d4\n",
            "  Stored in directory: /root/.cache/pip/wheels/db/f4/7a/2c548d3afdafe98843c5845a50b70493c378557a1e969cbf21\n",
            "Successfully built svglib\n",
            "Installing collected packages: reportlab, tinycss2, cssselect2, svglib\n",
            "Successfully installed cssselect2-0.4.1 reportlab-3.5.59 svglib-1.0.1 tinycss2-1.1.0\n"
          ],
          "name": "stdout"
        }
      ]
    },
    {
      "cell_type": "code",
      "metadata": {
        "id": "RPtHx6Xdgu8x"
      },
      "source": [
        "import requests # to get image from the web\n",
        "import PyPDF2\n",
        "from svglib.svglib import svg2rlg\n",
        "from reportlab.graphics import renderPDF\n",
        "from requests.exceptions import HTTPError"
      ],
      "execution_count": 3,
      "outputs": []
    },
    {
      "cell_type": "markdown",
      "metadata": {
        "id": "WrQfTO-ugu85"
      },
      "source": [
        "### Defaults"
      ]
    },
    {
      "cell_type": "code",
      "metadata": {
        "id": "Y9TP0Lxmgu86"
      },
      "source": [
        "#imagePrefix = \"https://iiitmk.in/bigbluebutton/presentation/810222974f73722d531d1bb037dc39413af2f7b0-1604373053359/810222974f73722d531d1bb037dc39413af2f7b0-1604373053359/8857bc5abe38077cbbea8b1814cc7394f506e06f-1604373673098/svg/\"\n",
        "num = 1"
      ],
      "execution_count": 4,
      "outputs": []
    },
    {
      "cell_type": "markdown",
      "metadata": {
        "id": "KGknwk99gu8_"
      },
      "source": [
        "### Inputs"
      ]
    },
    {
      "cell_type": "code",
      "metadata": {
        "id": "yQ3_h-1agu9B",
        "colab": {
          "base_uri": "https://localhost:8080/"
        },
        "outputId": "92de22c1-5975-4b10-84c8-25ae4bc8c874"
      },
      "source": [
        "imagePrefix = str(input(\"Link to the svg folder:\"))\n",
        "if imagePrefix[-1] != \"/\":\n",
        "    imagePrefix += '/'\n",
        "opName = str(input(\"Enter the name of PDF i.e. to be saved (without .pdf extention): \"))\n",
        "#num = int(input(\"Enter the initial slide number: \"))"
      ],
      "execution_count": 5,
      "outputs": [
        {
          "output_type": "stream",
          "text": [
            "Link to the svg folder:https://iiitmk.in/bigbluebutton/presentation/810222974f73722d531d1bb037dc39413af2f7b0-1610421055696/810222974f73722d531d1bb037dc39413af2f7b0-1610421055696/0195b87b21b83350ac6ab730b4a1cded8a7157e4-1610428581159/svg/\n",
            "Enter the name of PDF i.e. to be saved (without .pdf extention): OSlec13Last\n"
          ],
          "name": "stdout"
        }
      ]
    },
    {
      "cell_type": "markdown",
      "metadata": {
        "id": "idAXH10xgu9H"
      },
      "source": [
        "### Creating New File(s)"
      ]
    },
    {
      "cell_type": "code",
      "metadata": {
        "id": "HU6C1_zOgu9I"
      },
      "source": [
        "pdfWriter = PyPDF2.PdfFileWriter()\n",
        "pdfOutputFile = open(opName+'.pdf', 'wb') "
      ],
      "execution_count": 6,
      "outputs": []
    },
    {
      "cell_type": "markdown",
      "metadata": {
        "id": "axkIRnuhgu9P"
      },
      "source": [
        "### Downloading"
      ]
    },
    {
      "cell_type": "code",
      "metadata": {
        "id": "r4kciIbMgu9Q",
        "colab": {
          "base_uri": "https://localhost:8080/"
        },
        "outputId": "e9bac67f-06fc-4ce3-c49a-e249ea6f647e"
      },
      "source": [
        "while True:\n",
        "    try:\n",
        "        filename = str(num)\n",
        "        url = imagePrefix + filename\n",
        "        r = requests.get(url, stream = True)\n",
        "        r.raise_for_status()\n",
        "    except HTTPError:\n",
        "        pdfOutputFile.close()\n",
        "        !rm temp.pdf\n",
        "        print('Stopping')\n",
        "        break\n",
        "    else:\n",
        "        r.raw.decode_content = True\n",
        "        drawing = svg2rlg(r.raw)\n",
        "        renderPDF.drawToFile(drawing, 'temp.pdf')\n",
        "        # compressPDF('temp.pdf')\n",
        "        pdfPage = open('temp.pdf', 'rb') # open in read mode\n",
        "        pdfReader = PyPDF2.PdfFileReader(pdfPage)\n",
        "        for pageNum in range(pdfReader.numPages):\n",
        "            pageObj = pdfReader.getPage(pageNum)\n",
        "            pdfWriter.addPage(pageObj)\n",
        "            pdfWriter.write(pdfOutputFile)\n",
        "            pdfPage.close()\n",
        "        print('Downloaded slide ',num)\n",
        "        num += 1\n",
        "\n",
        "####################################\n",
        "\n",
        "print(\"Pdf is up!!\")"
      ],
      "execution_count": 7,
      "outputs": [
        {
          "output_type": "stream",
          "text": [
            "Downloaded slide  1\n",
            "Downloaded slide  2\n",
            "Downloaded slide  3\n",
            "Downloaded slide  4\n",
            "Downloaded slide  5\n",
            "Downloaded slide  6\n",
            "Downloaded slide  7\n",
            "Downloaded slide  8\n",
            "Downloaded slide  9\n",
            "Downloaded slide  10\n",
            "Downloaded slide  11\n",
            "Downloaded slide  12\n",
            "Downloaded slide  13\n",
            "Downloaded slide  14\n",
            "Stopping\n",
            "Pdf is up!!\n"
          ],
          "name": "stdout"
        }
      ]
    },
    {
      "cell_type": "code",
      "metadata": {
        "id": "cLpy9yfTEGMn",
        "colab": {
          "base_uri": "https://localhost:8080/"
        },
        "outputId": "0f4ca3c4-cd3d-4344-f272-089beec7fdb2"
      },
      "source": [
        "!ls ./drive/MyDrive/IIITM-K/"
      ],
      "execution_count": 10,
      "outputs": [
        {
          "output_type": "stream",
          "text": [
            "cryptAesDes.pdf  OSlec13Last.pdf  Weekend-Talks\n"
          ],
          "name": "stdout"
        }
      ]
    },
    {
      "cell_type": "code",
      "metadata": {
        "id": "LoJwV42YD-ZQ"
      },
      "source": [
        "!mv OSlec13Last.pdf ./drive/MyDrive/IIITM-K/"
      ],
      "execution_count": 9,
      "outputs": []
    },
    {
      "cell_type": "code",
      "metadata": {
        "id": "jvhjj-Htgu9V"
      },
      "source": [
        "import urllib.request\n",
        "import shutil\n",
        "\n",
        "url = \"https://iiitmk.in/bigbluebutton/presentation/c97e52cca040bdf56523c54fa882b814303f1687-1604027692694/c97e52cca040bdf56523c54fa882b814303f1687-1604027692694/9b95864e2486e2e2d776f976c0486367951de3b8-1604027810664/svg/20\"\n",
        "urllib.request.urlretrieve(url, 'pic1.svg')\n",
        "\n",
        "\n",
        "r = requests.get(url, stream = True)\n",
        "with open('pic2.svg', 'wb') as f:\n",
        "    r.raw.decode_content = True\n",
        "    shutil.copyfileobj(r.raw, f)"
      ],
      "execution_count": null,
      "outputs": []
    },
    {
      "cell_type": "markdown",
      "metadata": {
        "id": "zvZ7bMh8gu9b"
      },
      "source": [
        "---  \n",
        "\n",
        "<br /><br /><br /><br />"
      ]
    },
    {
      "cell_type": "markdown",
      "metadata": {
        "id": "wG1GeNYIgu9c"
      },
      "source": [
        "---\n",
        "\n",
        "### Libraries"
      ]
    },
    {
      "cell_type": "code",
      "metadata": {
        "id": "zScel9mYgu9d"
      },
      "source": [
        "import requests # to get image from the web\n",
        "import PyPDF2\n",
        "from svglib.svglib import svg2rlg\n",
        "from reportlab.graphics import renderPDF\n",
        "from requests.exceptions import HTTPError"
      ],
      "execution_count": null,
      "outputs": []
    },
    {
      "cell_type": "markdown",
      "metadata": {
        "id": "eULJD1_ygu9i"
      },
      "source": [
        "### Defaults"
      ]
    },
    {
      "cell_type": "code",
      "metadata": {
        "id": "J6pI4Xikgu9j"
      },
      "source": [
        "#imagePrefix = \"https://iiitmk.in/bigbluebutton/presentation/810222974f73722d531d1bb037dc39413af2f7b0-1603768399914/810222974f73722d531d1bb037dc39413af2f7b0-1603768399914/c61c612b4583dcf57f29b6b149cedbd61b3082df-1603771038794/svg/\"\n",
        "#num = 1"
      ],
      "execution_count": null,
      "outputs": []
    },
    {
      "cell_type": "markdown",
      "metadata": {
        "id": "65BIfcQZgu9p"
      },
      "source": [
        "### Inputs"
      ]
    },
    {
      "cell_type": "code",
      "metadata": {
        "id": "1DCkzqyZgu9q",
        "outputId": "bbffbf36-9005-457f-a48d-7d69c928d5d9"
      },
      "source": [
        "imagePrefix = str(input(\"Link to the svg folder:\"))\n",
        "if imagePrefix[-1] != \"/\":\n",
        "    imagePrefix += '/'\n",
        "opName = str(input(\"Enter the name of PDF i.e. to be saved (without .pdf extention): \"))\n",
        "num = int(input(\"Enter the initial slide number: \"))"
      ],
      "execution_count": null,
      "outputs": [
        {
          "output_type": "stream",
          "text": [
            "Link to the svg folder: https://iiitmk.in/bigbluebutton/presentation/c97e52cca040bdf56523c54fa882b814303f1687-1604027692694/c97e52cca040bdf56523c54fa882b814303f1687-1604027692694/6dab6036e84d7ec449ab7bb1ca41c1b5dae6074e-1604038993925/svg/\n",
            "Enter the name of PDF i.e. to be saved (without .pdf extention):  pyProgSess1Lab4\n",
            "Enter the initial slide number:  1\n"
          ],
          "name": "stdin"
        }
      ]
    },
    {
      "cell_type": "markdown",
      "metadata": {
        "id": "nbd7vVSwgu9v"
      },
      "source": [
        "### Creating New File(s)"
      ]
    },
    {
      "cell_type": "code",
      "metadata": {
        "id": "q4QUhl9Tgu9w"
      },
      "source": [
        "pdfWriter = PyPDF2.PdfFileWriter()\n",
        "pdfOutputFile = open(opName+'.pdf', 'wb') "
      ],
      "execution_count": null,
      "outputs": []
    },
    {
      "cell_type": "markdown",
      "metadata": {
        "id": "98Uscjjygu91"
      },
      "source": [
        "### Downloading"
      ]
    },
    {
      "cell_type": "code",
      "metadata": {
        "id": "mdbMak7egu92",
        "outputId": "df221948-31de-41ac-8db1-a16e6ee1f8bb"
      },
      "source": [
        "while True:\n",
        "    try:\n",
        "        filename = str(num)\n",
        "        url = imagePrefix + filename\n",
        "        r = requests.get(url, stream = True)\n",
        "        r.raise_for_status()\n",
        "    except HTTPError:\n",
        "        pdfOutputFile.close()\n",
        "        !rm temp.pdf\n",
        "        print('Stopping')\n",
        "        break\n",
        "    else:\n",
        "        r.raw.decode_content = True\n",
        "        drawing = svg2rlg(r.raw)\n",
        "        renderPDF.drawToFile(drawing, 'temp.pdf')\n",
        "        # compressPDF('temp.pdf')\n",
        "        pdfPage = open('temp.pdf', 'rb') # open in read mode\n",
        "        pdfReader = PyPDF2.PdfFileReader(pdfPage)\n",
        "        for pageNum in range(pdfReader.numPages):\n",
        "            pageObj = pdfReader.getPage(pageNum)\n",
        "            pdfWriter.addPage(pageObj)\n",
        "            pdfWriter.write(pdfOutputFile)\n",
        "            pdfPage.close()\n",
        "        print('Downloaded slide ',num)\n",
        "        num += 1\n",
        "\n",
        "####################################\n",
        "\n",
        "print(\"Pdf is up!!\")"
      ],
      "execution_count": null,
      "outputs": [
        {
          "output_type": "stream",
          "text": [
            "Downloaded slide  1\n",
            "Downloaded slide  2\n",
            "Downloaded slide  3\n",
            "Downloaded slide  4\n",
            "Downloaded slide  5\n",
            "Downloaded slide  6\n",
            "Downloaded slide  7\n",
            "Downloaded slide  8\n",
            "Downloaded slide  9\n",
            "Downloaded slide  10\n",
            "Downloaded slide  11\n",
            "Downloaded slide  12\n",
            "Downloaded slide  13\n",
            "Downloaded slide  14\n",
            "Downloaded slide  15\n",
            "Downloaded slide  16\n",
            "Downloaded slide  17\n",
            "Downloaded slide  18\n",
            "Downloaded slide  19\n",
            "Downloaded slide  20\n",
            "Stopping\n",
            "Pdf is up!!\n"
          ],
          "name": "stdout"
        }
      ]
    }
  ]
}
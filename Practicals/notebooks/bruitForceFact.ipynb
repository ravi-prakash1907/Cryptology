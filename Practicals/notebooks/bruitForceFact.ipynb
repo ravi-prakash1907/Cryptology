{
  "nbformat": 4,
  "nbformat_minor": 0,
  "metadata": {
    "colab": {
      "name": "bruitForceFact.ipynb",
      "provenance": [],
      "authorship_tag": "ABX9TyMQe1yNy7G+am6ojjWj74Xu",
      "include_colab_link": true
    },
    "kernelspec": {
      "name": "python3",
      "display_name": "Python 3"
    }
  },
  "cells": [
    {
      "cell_type": "markdown",
      "metadata": {
        "id": "view-in-github",
        "colab_type": "text"
      },
      "source": [
        "<a href=\"https://colab.research.google.com/github/ravi-prakash1907/Cryptology/blob/main/Practicals/notebooks/bruitForceFact.ipynb\" target=\"_parent\"><img src=\"https://colab.research.google.com/assets/colab-badge.svg\" alt=\"Open In Colab\"/></a>"
      ]
    },
    {
      "cell_type": "markdown",
      "metadata": {
        "id": "98xPyliF21wD"
      },
      "source": [
        "### Importing Required Libraries\n",
        "\n"
      ]
    },
    {
      "cell_type": "code",
      "metadata": {
        "id": "IXKmNCXnwXOC"
      },
      "source": [
        "from math import sqrt"
      ],
      "execution_count": 132,
      "outputs": []
    },
    {
      "cell_type": "markdown",
      "metadata": {
        "id": "2vY7PN4B4EYU"
      },
      "source": [
        "### Factorization"
      ]
    },
    {
      "cell_type": "code",
      "metadata": {
        "id": "vQIiTdv1wNlj"
      },
      "source": [
        "# for positive numbers only\n",
        "def factorize(num):\n",
        "  main = []\n",
        "  root = int(sqrt(num))\n",
        "  \n",
        "  for i in range(2, root+1):\n",
        "    if num % i == 0:\n",
        "      main.append([i, num//i])\n",
        "      endFc = factor(num//i)\n",
        "\n",
        "      if endFc == num//i:\n",
        "        continue\n",
        "      else:\n",
        "        for fc in endFc:\n",
        "          fc.insert(0,i)\n",
        "          fc.sort()\n",
        "          main.append(fc)\n",
        "  \n",
        "  return num if main == [] else main\n",
        "  "
      ],
      "execution_count": 151,
      "outputs": []
    },
    {
      "cell_type": "code",
      "metadata": {
        "id": "zZJtNX1vSgNB"
      },
      "source": [
        "def getFactors(num):\n",
        "  main = [1]\n",
        "  root = int(sqrt(num))\n",
        "  \n",
        "  for i in range(2, root+1):\n",
        "    if num % i == 0:\n",
        "      main.extend([i, num//i])\n",
        "      endFc = factor(num//i)\n",
        "\n",
        "      if endFc == num//i:\n",
        "        continue\n",
        "      else:\n",
        "        for fc in endFc:\n",
        "          fc.extend([i])\n",
        "          fc.sort()\n",
        "          main.extend(fc)\n",
        "  \n",
        "  main.append(num)\n",
        "  return main"
      ],
      "execution_count": 192,
      "outputs": []
    },
    {
      "cell_type": "markdown",
      "metadata": {
        "id": "Gia64Nwx4ZPh"
      },
      "source": [
        "### Factorizing a Number"
      ]
    },
    {
      "cell_type": "code",
      "metadata": {
        "id": "qRZCuzOLxbd7"
      },
      "source": [
        "def factorization(num): \n",
        "  ####  to print all combinations of the factors\n",
        "  universal = [1, num]\n",
        "  factors = factorize(num)\n",
        "\n",
        "  if factors == num:\n",
        "    return universal\n",
        "  else:\n",
        "    factors.insert(0,universal)\n",
        "    temp = factors[:]\n",
        "    new = []\n",
        "    \n",
        "    for pos in range(len(factors)):\n",
        "      if factors[pos] in factors[pos+1:]:\n",
        "        temp.remove(factors[pos])\n",
        "    factors = temp\n",
        "\n",
        "  return factors"
      ],
      "execution_count": 139,
      "outputs": []
    },
    {
      "cell_type": "markdown",
      "metadata": {
        "id": "h8HvEhQI4gD0"
      },
      "source": [
        "## Driver Function"
      ]
    },
    {
      "cell_type": "code",
      "metadata": {
        "id": "pGUwtf7eNVqU"
      },
      "source": [
        "def driverFun():\n",
        "  # taking input\n",
        "  num = int(input(\"Enter a (positive) integer: \"))\n",
        "\n",
        "  # finding all fectors\n",
        "  factors = getFactors(num)\n",
        "  print(\"Factors of {} are {}\".format(num, set(factors)))\n",
        "  "
      ],
      "execution_count": 193,
      "outputs": []
    },
    {
      "cell_type": "code",
      "metadata": {
        "colab": {
          "base_uri": "https://localhost:8080/"
        },
        "id": "jcN3KLGGz0-S",
        "outputId": "5fb805c4-105c-4c63-95ad-ff8ff160a0f0"
      },
      "source": [
        "driverFun()"
      ],
      "execution_count": 194,
      "outputs": [
        {
          "output_type": "stream",
          "text": [
            "Enter a (positive) integer: 100\n",
            "Factors of 100 are {1, 2, 4, 5, 100, 10, 50, 20, 25}\n"
          ],
          "name": "stdout"
        }
      ]
    },
    {
      "cell_type": "code",
      "metadata": {
        "id": "lQoS_LvkUYqS"
      },
      "source": [
        ""
      ],
      "execution_count": null,
      "outputs": []
    }
  ]
}
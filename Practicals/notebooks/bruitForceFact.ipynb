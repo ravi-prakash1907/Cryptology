{
  "nbformat": 4,
  "nbformat_minor": 0,
  "metadata": {
    "colab": {
      "name": "bruitForceFact.ipynb",
      "provenance": [],
      "authorship_tag": "ABX9TyN5UeiKUAf3uvw7LZuawp4l",
      "include_colab_link": true
    },
    "kernelspec": {
      "name": "python3",
      "display_name": "Python 3"
    }
  },
  "cells": [
    {
      "cell_type": "markdown",
      "metadata": {
        "id": "view-in-github",
        "colab_type": "text"
      },
      "source": [
        "<a href=\"https://colab.research.google.com/github/ravi-prakash1907/Cryptology/blob/main/Practicals/notebooks/bruitForceFact.ipynb\" target=\"_parent\"><img src=\"https://colab.research.google.com/assets/colab-badge.svg\" alt=\"Open In Colab\"/></a>"
      ]
    },
    {
      "cell_type": "markdown",
      "metadata": {
        "id": "98xPyliF21wD"
      },
      "source": [
        "### Importing Required Libraries\n",
        "\n"
      ]
    },
    {
      "cell_type": "code",
      "metadata": {
        "id": "IXKmNCXnwXOC"
      },
      "source": [
        "from math import sqrt"
      ],
      "execution_count": 25,
      "outputs": []
    },
    {
      "cell_type": "markdown",
      "metadata": {
        "id": "2vY7PN4B4EYU"
      },
      "source": [
        "### Factorization"
      ]
    },
    {
      "cell_type": "code",
      "metadata": {
        "id": "vQIiTdv1wNlj"
      },
      "source": [
        "# for positive numbers only\n",
        "def factorize(num):\n",
        "  main = []\n",
        "  root = int(sqrt(num))\n",
        "  \n",
        "  for i in range(2, root+1):\n",
        "    if num % i == 0:\n",
        "      main.append([i, num//i])\n",
        "      endFc = factor(num//i)\n",
        "\n",
        "      if endFc == num//i:\n",
        "        continue\n",
        "      else:\n",
        "        for fc in endFc:\n",
        "          fc.insert(0,i)\n",
        "          fc.sort()\n",
        "          main.append(fc)\n",
        "  \n",
        "  return num if main == [] else main\n",
        "  "
      ],
      "execution_count": 123,
      "outputs": []
    },
    {
      "cell_type": "code",
      "metadata": {
        "id": "zx5z87yjD7cd"
      },
      "source": [
        "# for positive numbers only\n",
        "def getFactors(num):\n",
        "  main = [num]\n",
        "  root = int(sqrt(num)+1)\n",
        "  \n",
        "  for i in range(1, root+1):\n",
        "    if num % i == 0:\n",
        "      main.append(i)\n",
        "      \n",
        "  return set(main)  "
      ],
      "execution_count": 116,
      "outputs": []
    },
    {
      "cell_type": "code",
      "metadata": {
        "id": "oiQ1qO9yJeti",
        "outputId": "688b1c04-746f-4b75-c8d2-962efedf5486",
        "colab": {
          "base_uri": "https://localhost:8080/"
        }
      },
      "source": [
        "num = 12\n",
        "#%%matplotlib as plt\n",
        "print(\"Factors of {} are {}\".format(num, getFactors(num)))\n",
        "\n",
        "#%%matplotlib as plt\n",
        "print(\"Factorized {}:- \\n {}\".format(num, factorize(num)))"
      ],
      "execution_count": 117,
      "outputs": [
        {
          "output_type": "stream",
          "text": [
            "Factors of 12 are {1, 2, 3, 4, 12}\n",
            "Factorized 12:- \n",
            " [[2, 6], [2, 2, 3], [3, 4], [2, 2, 3]]\n"
          ],
          "name": "stdout"
        }
      ]
    },
    {
      "cell_type": "markdown",
      "metadata": {
        "id": "Gia64Nwx4ZPh"
      },
      "source": [
        "### Factorizing a Number"
      ]
    },
    {
      "cell_type": "code",
      "metadata": {
        "id": "qRZCuzOLxbd7"
      },
      "source": [
        "def factorization(num): \n",
        "  ####  to print all combinations of the factors\n",
        "  universal = [1, num]\n",
        "  factors = factorize(num)\n",
        "\n",
        "  if factors == num:\n",
        "    return universal\n",
        "  else:\n",
        "    factors.insert(0,universal)\n",
        "    temp = factors[:]\n",
        "    new = []\n",
        "    \n",
        "    for pos in range(len(factors)):\n",
        "      if factors[pos] in factors[pos+1:]:\n",
        "        temp.remove(factors[pos])\n",
        "    factors = temp\n",
        "\n",
        "  return factors"
      ],
      "execution_count": 127,
      "outputs": []
    },
    {
      "cell_type": "markdown",
      "metadata": {
        "id": "h8HvEhQI4gD0"
      },
      "source": [
        "## Driver Function"
      ]
    },
    {
      "cell_type": "code",
      "metadata": {
        "id": "pGUwtf7eNVqU",
        "outputId": "4dd42b94-0672-44eb-f6e9-6aa8240fb549",
        "colab": {
          "base_uri": "https://localhost:8080/"
        }
      },
      "source": [
        "def driverFun():\n",
        "  # taking input\n",
        "  num = int(input(\"Enter a (positive) integer: \"))\n",
        "  # finding all fectors\n",
        "  factors = getFactors(num)\n",
        "\n",
        "  "
      ],
      "execution_count": 129,
      "outputs": [
        {
          "output_type": "stream",
          "text": [
            "Enter a (positive) integer: 12\n"
          ],
          "name": "stdout"
        },
        {
          "output_type": "execute_result",
          "data": {
            "text/plain": [
              "[[1, 12], [2, 6], [3, 4], [2, 2, 3]]"
            ]
          },
          "metadata": {
            "tags": []
          },
          "execution_count": 129
        }
      ]
    },
    {
      "cell_type": "code",
      "metadata": {
        "colab": {
          "base_uri": "https://localhost:8080/",
          "height": 367
        },
        "id": "jcN3KLGGz0-S",
        "outputId": "db0c9ab7-4b10-49a7-ec04-561c971da028"
      },
      "source": [
        "got = getAllFactors()\n",
        "got"
      ],
      "execution_count": 35,
      "outputs": [
        {
          "output_type": "stream",
          "text": [
            "Enter a (positive) integer: 100\n",
            "For 50, endFc i.e. factors are None\n",
            "For 50, endFc i.e. factors are None\n",
            "For 20, endFc i.e. factors are None\n"
          ],
          "name": "stdout"
        },
        {
          "output_type": "error",
          "ename": "TypeError",
          "evalue": "ignored",
          "traceback": [
            "\u001b[0;31m---------------------------------------------------------------------------\u001b[0m",
            "\u001b[0;31mTypeError\u001b[0m                                 Traceback (most recent call last)",
            "\u001b[0;32m<ipython-input-35-67f3e04b90ee>\u001b[0m in \u001b[0;36m<module>\u001b[0;34m()\u001b[0m\n\u001b[0;32m----> 1\u001b[0;31m \u001b[0mgot\u001b[0m \u001b[0;34m=\u001b[0m \u001b[0mgetAllFactors\u001b[0m\u001b[0;34m(\u001b[0m\u001b[0;34m)\u001b[0m\u001b[0;34m\u001b[0m\u001b[0;34m\u001b[0m\u001b[0m\n\u001b[0m\u001b[1;32m      2\u001b[0m \u001b[0mgot\u001b[0m\u001b[0;34m\u001b[0m\u001b[0;34m\u001b[0m\u001b[0m\n",
            "\u001b[0;32m<ipython-input-27-7ef91cccbc95>\u001b[0m in \u001b[0;36mgetAllFactors\u001b[0;34m()\u001b[0m\n\u001b[1;32m      3\u001b[0m \u001b[0;34m\u001b[0m\u001b[0m\n\u001b[1;32m      4\u001b[0m   \u001b[0muniversal\u001b[0m \u001b[0;34m=\u001b[0m \u001b[0;34m[\u001b[0m\u001b[0;36m1\u001b[0m\u001b[0;34m,\u001b[0m \u001b[0mnum\u001b[0m\u001b[0;34m]\u001b[0m\u001b[0;34m\u001b[0m\u001b[0;34m\u001b[0m\u001b[0m\n\u001b[0;32m----> 5\u001b[0;31m   \u001b[0mfactors\u001b[0m \u001b[0;34m=\u001b[0m \u001b[0mset\u001b[0m\u001b[0;34m(\u001b[0m\u001b[0mfactor\u001b[0m\u001b[0;34m(\u001b[0m\u001b[0mnum\u001b[0m\u001b[0;34m)\u001b[0m\u001b[0;34m)\u001b[0m\u001b[0;34m\u001b[0m\u001b[0;34m\u001b[0m\u001b[0m\n\u001b[0m\u001b[1;32m      6\u001b[0m \u001b[0;34m\u001b[0m\u001b[0m\n\u001b[1;32m      7\u001b[0m   \u001b[0;32mif\u001b[0m \u001b[0mfactors\u001b[0m \u001b[0;34m==\u001b[0m \u001b[0mnum\u001b[0m\u001b[0;34m:\u001b[0m\u001b[0;34m\u001b[0m\u001b[0;34m\u001b[0m\u001b[0m\n",
            "\u001b[0;31mTypeError\u001b[0m: unhashable type: 'list'"
          ]
        }
      ]
    },
    {
      "cell_type": "code",
      "metadata": {
        "id": "UbjbP2Nr7qox",
        "outputId": "3f7c50f3-1203-4a83-c4ca-71bd4268ba61",
        "colab": {
          "base_uri": "https://localhost:8080/"
        }
      },
      "source": [
        "x = [2,5,2,4]\n",
        "#x.append(set([3,4]))\n",
        "#x.sort()\n",
        "y = set(x)\n",
        "y.add(8)\n",
        "y"
      ],
      "execution_count": 24,
      "outputs": [
        {
          "output_type": "execute_result",
          "data": {
            "text/plain": [
              "{2, 4, 5, 8}"
            ]
          },
          "metadata": {
            "tags": []
          },
          "execution_count": 24
        }
      ]
    }
  ]
}
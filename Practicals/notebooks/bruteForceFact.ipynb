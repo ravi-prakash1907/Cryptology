{
  "nbformat": 4,
  "nbformat_minor": 0,
  "metadata": {
    "colab": {
      "name": "bruteForceFact.ipynb",
      "provenance": [],
      "authorship_tag": "ABX9TyMLACzPf5oVvcvThUonVr4U",
      "include_colab_link": true
    },
    "kernelspec": {
      "name": "python3",
      "display_name": "Python 3"
    }
  },
  "cells": [
    {
      "cell_type": "markdown",
      "metadata": {
        "id": "view-in-github",
        "colab_type": "text"
      },
      "source": [
        "<a href=\"https://colab.research.google.com/github/ravi-prakash1907/Cryptology/blob/main/Practicals/notebooks/bruteForceFact.ipynb\" target=\"_parent\"><img src=\"https://colab.research.google.com/assets/colab-badge.svg\" alt=\"Open In Colab\"/></a>"
      ]
    },
    {
      "cell_type": "markdown",
      "metadata": {
        "id": "98xPyliF21wD"
      },
      "source": [
        "### Importing Required Libraries\n",
        "\n"
      ]
    },
    {
      "cell_type": "code",
      "metadata": {
        "id": "IXKmNCXnwXOC"
      },
      "source": [
        "from time import time\n",
        "from math import sqrt\n",
        "import matplotlib.pyplot as plt"
      ],
      "execution_count": null,
      "outputs": []
    },
    {
      "cell_type": "markdown",
      "metadata": {
        "id": "2vY7PN4B4EYU"
      },
      "source": [
        "### Factorization"
      ]
    },
    {
      "cell_type": "markdown",
      "metadata": {
        "id": "tMand2MAP-B1"
      },
      "source": [
        "#### List all Factor Combinations"
      ]
    },
    {
      "cell_type": "code",
      "metadata": {
        "id": "vQIiTdv1wNlj"
      },
      "source": [
        "# for positive numbers only\n",
        "def factorize(num):\n",
        "  main = []\n",
        "  root = int(sqrt(num))\n",
        "  \n",
        "  for i in range(2, root+1):\n",
        "    if num % i == 0:\n",
        "      main.append([i, num//i])\n",
        "      endFc = factorize(num//i)\n",
        "\n",
        "      if endFc == num//i:\n",
        "        continue\n",
        "      else:\n",
        "        for fc in endFc:\n",
        "          fc.insert(0,i)\n",
        "          fc.sort()\n",
        "          main.append(fc)\n",
        "  \n",
        "  return num if main == [] else main\n",
        "  "
      ],
      "execution_count": 46,
      "outputs": []
    },
    {
      "cell_type": "code",
      "metadata": {
        "id": "dbFqE5tHOnPR",
        "outputId": "94b0bf17-da7b-42f6-ff17-d1cfef388005",
        "colab": {
          "base_uri": "https://localhost:8080/"
        }
      },
      "source": [
        "factorize(12)"
      ],
      "execution_count": 47,
      "outputs": [
        {
          "output_type": "execute_result",
          "data": {
            "text/plain": [
              "[[2, 6], [2, 2, 3], [3, 4], [2, 2, 3]]"
            ]
          },
          "metadata": {
            "tags": []
          },
          "execution_count": 47
        }
      ]
    },
    {
      "cell_type": "markdown",
      "metadata": {
        "id": "Gia64Nwx4ZPh"
      },
      "source": [
        "##### List all **UNIQUE** Factor Combinations"
      ]
    },
    {
      "cell_type": "code",
      "metadata": {
        "id": "qRZCuzOLxbd7"
      },
      "source": [
        "def factorization(num): \n",
        "  ####  to print all combinations of the factors\n",
        "  universal = [1, num]\n",
        "  factors = factorize(num)\n",
        "\n",
        "  if factors == num:\n",
        "    return universal\n",
        "  else:\n",
        "    factors.insert(0,universal)\n",
        "    temp = factors[:]\n",
        "    new = []\n",
        "    \n",
        "    for pos in range(len(factors)):\n",
        "      if factors[pos] in factors[pos+1:]:\n",
        "        temp.remove(factors[pos])\n",
        "    factors = temp\n",
        "\n",
        "  return factors"
      ],
      "execution_count": 44,
      "outputs": []
    },
    {
      "cell_type": "code",
      "metadata": {
        "id": "IIQV0mD3W3J4",
        "outputId": "781f47ee-c3f5-4f0a-fb0c-aed4865a9e6b",
        "colab": {
          "base_uri": "https://localhost:8080/"
        }
      },
      "source": [
        "factorization(12)"
      ],
      "execution_count": 45,
      "outputs": [
        {
          "output_type": "execute_result",
          "data": {
            "text/plain": [
              "[[1, 12], [2, 6], [3, 4], [2, 2, 3]]"
            ]
          },
          "metadata": {
            "tags": []
          },
          "execution_count": 45
        }
      ]
    },
    {
      "cell_type": "markdown",
      "metadata": {
        "id": "yiqFbpbdQEYx"
      },
      "source": [
        "#### List all Factors"
      ]
    },
    {
      "cell_type": "code",
      "metadata": {
        "id": "zZJtNX1vSgNB"
      },
      "source": [
        "def getFactors(num):\n",
        "  main = [1]\n",
        "  root = int(sqrt(num))\n",
        "  \n",
        "  for i in range(2, root+1):\n",
        "    if num % i == 0:\n",
        "      main.extend([i, num//i])\n",
        "      endFc = getFactors(num//i)\n",
        "\n",
        "      if endFc[0] == num//i:\n",
        "        continue\n",
        "      else:\n",
        "        for fc in endFc:\n",
        "          #fc.extend([i])\n",
        "          #fc.sort()\n",
        "          main.extend([fc])\n",
        "  \n",
        "  main.append(num)\n",
        "  main = list(set(main))\n",
        "  return main"
      ],
      "execution_count": 42,
      "outputs": []
    },
    {
      "cell_type": "code",
      "metadata": {
        "id": "fdP3XfSfP64s",
        "outputId": "28ec92a8-da27-4820-db02-85a84e2f7afb",
        "colab": {
          "base_uri": "https://localhost:8080/"
        }
      },
      "source": [
        "getFactors(12)"
      ],
      "execution_count": 43,
      "outputs": [
        {
          "output_type": "execute_result",
          "data": {
            "text/plain": [
              "[1, 2, 3, 4, 6, 12]"
            ]
          },
          "metadata": {
            "tags": []
          },
          "execution_count": 43
        }
      ]
    },
    {
      "cell_type": "markdown",
      "metadata": {
        "id": "h8HvEhQI4gD0"
      },
      "source": [
        "## Driver Function for User Input"
      ]
    },
    {
      "cell_type": "code",
      "metadata": {
        "id": "pGUwtf7eNVqU"
      },
      "source": [
        "def driverFun():\n",
        "  # taking input\n",
        "  num = int(input(\"Enter a (positive) integer: \"))\n",
        "\n",
        "  # finding all fectors\n",
        "  factors = getFactors(num)\n",
        "  print(\"Factors of {} are {}\".format(num, set(factors)))\n",
        "  "
      ],
      "execution_count": 10,
      "outputs": []
    },
    {
      "cell_type": "code",
      "metadata": {
        "colab": {
          "base_uri": "https://localhost:8080/"
        },
        "id": "jcN3KLGGz0-S",
        "outputId": "5fb805c4-105c-4c63-95ad-ff8ff160a0f0"
      },
      "source": [
        "driverFun()"
      ],
      "execution_count": null,
      "outputs": [
        {
          "output_type": "stream",
          "text": [
            "Enter a (positive) integer: 100\n",
            "Factors of 100 are {1, 2, 4, 5, 100, 10, 50, 20, 25}\n"
          ],
          "name": "stdout"
        }
      ]
    },
    {
      "cell_type": "markdown",
      "metadata": {
        "id": "SuhWBvl3W_Cb"
      },
      "source": [
        " ## Driver Code for Automatic Input Generation"
      ]
    },
    {
      "cell_type": "code",
      "metadata": {
        "id": "d5Z7gQtPIlVx"
      },
      "source": [
        "def plotGraph(n):\n",
        "  c='#f16a70'\n",
        "  marker=\"P\"\n",
        "\n",
        "  print(\"\")\n",
        "  for num in range(10**(n-1), 10**n):\n",
        "    startTime = time()\n",
        "    factors = getFactors(i)\n",
        "    endTime = time()\n",
        "    exeTime = endTime - startTime\n",
        "    #print(\"Time talen to find factors of {} is : {}\".format(i, exeTime))\n",
        "    \n",
        "    plt.plot(i, exeTime, c=c, marker=marker)\n",
        "  plt.show()"
      ],
      "execution_count": 11,
      "outputs": []
    },
    {
      "cell_type": "code",
      "metadata": {
        "id": "0Ng34A3mITw6"
      },
      "source": [
        "def driveForNNum():\n",
        "  for noOfDigits in range(1,6):\n",
        "    plotGraph(noOfDigits):\n",
        "      #"
      ],
      "execution_count": null,
      "outputs": []
    },
    {
      "cell_type": "code",
      "metadata": {
        "id": "6PLu1FnFW-Jo"
      },
      "source": [
        "def driveForNNum():\n",
        "  for i in range(1000):\n",
        "    startTime = time()\n",
        "    factors = getFactors(i)\n",
        "    endTime = time()\n",
        "    exeTime = endTime - startTime\n",
        "    #print(\"Time talen to find factors of {} is : {}\".format(i, exeTime))\n",
        "\n",
        "    # plotting\n",
        "    if i//10 == 0:\n",
        "      c='#f16a70'\n",
        "      marker=\"P\"\n",
        "    elif i//100 == 0:\n",
        "      c='#616a33'\n",
        "      marker=\"s\"\n",
        "    elif i//1000 == 0:\n",
        "      c='#ff2270'\n",
        "      marker=\"D\"\n",
        "    else:\n",
        "      c='red'\n",
        "      marker=\"ro\"\n",
        "    plt.plot(i, exeTime, c=c, marker=marker)\n",
        "  plt.show()"
      ],
      "execution_count": null,
      "outputs": []
    },
    {
      "cell_type": "code",
      "metadata": {
        "colab": {
          "base_uri": "https://localhost:8080/",
          "height": 265
        },
        "id": "lQoS_LvkUYqS",
        "outputId": "268abab0-1ae7-4cc9-f96b-8a77995a433b"
      },
      "source": [
        "driveForNNum()"
      ],
      "execution_count": null,
      "outputs": [
        {
          "output_type": "display_data",
          "data": {
            "image/png": "[encoded data removed]",
            "text/plain": [
              "<Figure size 432x288 with 1 Axes>"
            ]
          },
          "metadata": {
            "tags": [],
            "needs_background": "light"
          }
        }
      ]
    },
    {
      "cell_type": "code",
      "metadata": {
        "id": "TYyfmwjlKlRd"
      },
      "source": [
        "def driveForNNum():\n",
        "  numOfDigit = int(input(\"Upto how many number of digits? \"))\n",
        "  num = int(input(\"Enter a single digit number: \"))\n",
        "  num %= 10\n",
        "\n",
        "  numbers = []\n",
        "  \n",
        "  for i in range(numOfDigit):\n",
        "    n = num**(i+1)\n",
        "    numbers.append(n)\n",
        "\n",
        "    startTime = time()\n",
        "    factors = getFactors(n)\n",
        "    endTime = time()\n",
        "    exeTime = endTime - startTime\n",
        "\n",
        "    #print(\"Time talen to find factors of {} is : {}\".format(i, exeTime))\n",
        "    plt.plot(i, exeTime, c='#f16a70', marker='P')\n",
        "  \n",
        "  print(\"Numbers for factor: \",numbers,'\\n\\n')\n",
        "  plt.show()\n"
      ],
      "execution_count": 16,
      "outputs": []
    },
    {
      "cell_type": "code",
      "metadata": {
        "id": "YUi4a0JUNuFP",
        "outputId": "5c7c11c6-3e40-44bb-f8ff-4f5a7ce971a0",
        "colab": {
          "base_uri": "https://localhost:8080/",
          "height": 340
        }
      },
      "source": [
        "driveForNNum()"
      ],
      "execution_count": 19,
      "outputs": [
        {
          "output_type": "stream",
          "text": [
            "Upto how many number of digits? 6\n",
            "Enter a single digit number: 4\n"
          ],
          "name": "stdout"
        },
        {
          "output_type": "error",
          "ename": "AttributeError",
          "evalue": "ignored",
          "traceback": [
            "\u001b[0;31m---------------------------------------------------------------------------\u001b[0m",
            "\u001b[0;31mAttributeError\u001b[0m                            Traceback (most recent call last)",
            "\u001b[0;32m<ipython-input-19-fb45e1e7c06a>\u001b[0m in \u001b[0;36m<module>\u001b[0;34m()\u001b[0m\n\u001b[0;32m----> 1\u001b[0;31m \u001b[0mdriveForNNum\u001b[0m\u001b[0;34m(\u001b[0m\u001b[0;34m)\u001b[0m\u001b[0;34m\u001b[0m\u001b[0;34m\u001b[0m\u001b[0m\n\u001b[0m",
            "\u001b[0;32m<ipython-input-16-899f865a02a6>\u001b[0m in \u001b[0;36mdriveForNNum\u001b[0;34m()\u001b[0m\n\u001b[1;32m     11\u001b[0m \u001b[0;34m\u001b[0m\u001b[0m\n\u001b[1;32m     12\u001b[0m     \u001b[0mstartTime\u001b[0m \u001b[0;34m=\u001b[0m \u001b[0mtime\u001b[0m\u001b[0;34m(\u001b[0m\u001b[0;34m)\u001b[0m\u001b[0;34m\u001b[0m\u001b[0;34m\u001b[0m\u001b[0m\n\u001b[0;32m---> 13\u001b[0;31m     \u001b[0mfactors\u001b[0m \u001b[0;34m=\u001b[0m \u001b[0mgetFactors\u001b[0m\u001b[0;34m(\u001b[0m\u001b[0mn\u001b[0m\u001b[0;34m)\u001b[0m\u001b[0;34m\u001b[0m\u001b[0;34m\u001b[0m\u001b[0m\n\u001b[0m\u001b[1;32m     14\u001b[0m     \u001b[0mendTime\u001b[0m \u001b[0;34m=\u001b[0m \u001b[0mtime\u001b[0m\u001b[0;34m(\u001b[0m\u001b[0;34m)\u001b[0m\u001b[0;34m\u001b[0m\u001b[0;34m\u001b[0m\u001b[0m\n\u001b[1;32m     15\u001b[0m     \u001b[0mexeTime\u001b[0m \u001b[0;34m=\u001b[0m \u001b[0mendTime\u001b[0m \u001b[0;34m-\u001b[0m \u001b[0mstartTime\u001b[0m\u001b[0;34m\u001b[0m\u001b[0;34m\u001b[0m\u001b[0m\n",
            "\u001b[0;32m<ipython-input-18-b0557dda48b4>\u001b[0m in \u001b[0;36mgetFactors\u001b[0;34m(num)\u001b[0m\n\u001b[1;32m     12\u001b[0m       \u001b[0;32melse\u001b[0m\u001b[0;34m:\u001b[0m\u001b[0;34m\u001b[0m\u001b[0;34m\u001b[0m\u001b[0m\n\u001b[1;32m     13\u001b[0m         \u001b[0;32mfor\u001b[0m \u001b[0mfc\u001b[0m \u001b[0;32min\u001b[0m \u001b[0mendFc\u001b[0m\u001b[0;34m:\u001b[0m\u001b[0;34m\u001b[0m\u001b[0;34m\u001b[0m\u001b[0m\n\u001b[0;32m---> 14\u001b[0;31m           \u001b[0mfc\u001b[0m\u001b[0;34m.\u001b[0m\u001b[0mextend\u001b[0m\u001b[0;34m(\u001b[0m\u001b[0;34m[\u001b[0m\u001b[0mi\u001b[0m\u001b[0;34m]\u001b[0m\u001b[0;34m)\u001b[0m\u001b[0;34m\u001b[0m\u001b[0;34m\u001b[0m\u001b[0m\n\u001b[0m\u001b[1;32m     15\u001b[0m           \u001b[0mfc\u001b[0m\u001b[0;34m.\u001b[0m\u001b[0msort\u001b[0m\u001b[0;34m(\u001b[0m\u001b[0;34m)\u001b[0m\u001b[0;34m\u001b[0m\u001b[0;34m\u001b[0m\u001b[0m\n\u001b[1;32m     16\u001b[0m           \u001b[0mmain\u001b[0m\u001b[0;34m.\u001b[0m\u001b[0mextend\u001b[0m\u001b[0;34m(\u001b[0m\u001b[0mfc\u001b[0m\u001b[0;34m)\u001b[0m\u001b[0;34m\u001b[0m\u001b[0;34m\u001b[0m\u001b[0m\n",
            "\u001b[0;31mAttributeError\u001b[0m: 'int' object has no attribute 'extend'"
          ]
        }
      ]
    }
  ]
}
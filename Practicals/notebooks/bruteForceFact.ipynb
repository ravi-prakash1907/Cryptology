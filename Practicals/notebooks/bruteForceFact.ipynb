{
  "nbformat": 4,
  "nbformat_minor": 0,
  "metadata": {
    "colab": {
      "name": "bruteForceFact.ipynb",
      "provenance": [],
      "authorship_tag": "ABX9TyOcVHcS7Wf1yDDUMBOAEWJk",
      "include_colab_link": true
    },
    "kernelspec": {
      "name": "python3",
      "display_name": "Python 3"
    }
  },
  "cells": [
    {
      "cell_type": "markdown",
      "metadata": {
        "id": "view-in-github",
        "colab_type": "text"
      },
      "source": [
        "<a href=\"https://colab.research.google.com/github/ravi-prakash1907/Cryptology/blob/main/Practicals/notebooks/bruteForceFact.ipynb\" target=\"_parent\"><img src=\"https://colab.research.google.com/assets/colab-badge.svg\" alt=\"Open In Colab\"/></a>"
      ]
    },
    {
      "cell_type": "markdown",
      "metadata": {
        "id": "98xPyliF21wD"
      },
      "source": [
        "### Importing Required Libraries\n",
        "\n"
      ]
    },
    {
      "cell_type": "code",
      "metadata": {
        "id": "IXKmNCXnwXOC"
      },
      "source": [
        "from time import time\n",
        "from math import sqrt\n",
        "import matplotlib.pyplot as plt"
      ],
      "execution_count": 50,
      "outputs": []
    },
    {
      "cell_type": "markdown",
      "metadata": {
        "id": "2vY7PN4B4EYU"
      },
      "source": [
        "### Factorization"
      ]
    },
    {
      "cell_type": "markdown",
      "metadata": {
        "id": "tMand2MAP-B1"
      },
      "source": [
        "#### List all Factor Combinations"
      ]
    },
    {
      "cell_type": "code",
      "metadata": {
        "id": "vQIiTdv1wNlj"
      },
      "source": [
        "# for positive numbers only\n",
        "def factorize(num):\n",
        "  main = []\n",
        "  root = int(sqrt(num))\n",
        "  \n",
        "  for i in range(2, root+1):\n",
        "    if num % i == 0:\n",
        "      main.append([i, num//i])\n",
        "      endFc = factorize(num//i)\n",
        "\n",
        "      if endFc == num//i:\n",
        "        continue\n",
        "      else:\n",
        "        for fc in endFc:\n",
        "          fc.insert(0,i)\n",
        "          fc.sort()\n",
        "          main.append(fc)\n",
        "  \n",
        "  return num if main == [] else main\n",
        "  "
      ],
      "execution_count": 51,
      "outputs": []
    },
    {
      "cell_type": "code",
      "metadata": {
        "colab": {
          "base_uri": "https://localhost:8080/"
        },
        "id": "dbFqE5tHOnPR",
        "outputId": "1ef8e9b8-53fb-42ea-bf4d-005b765a5aea"
      },
      "source": [
        "factorize(12)"
      ],
      "execution_count": 52,
      "outputs": [
        {
          "output_type": "execute_result",
          "data": {
            "text/plain": [
              "[[2, 6], [2, 2, 3], [3, 4], [2, 2, 3]]"
            ]
          },
          "metadata": {
            "tags": []
          },
          "execution_count": 52
        }
      ]
    },
    {
      "cell_type": "markdown",
      "metadata": {
        "id": "Gia64Nwx4ZPh"
      },
      "source": [
        "##### List all **UNIQUE** Factor Combinations"
      ]
    },
    {
      "cell_type": "code",
      "metadata": {
        "id": "qRZCuzOLxbd7"
      },
      "source": [
        "def factorization(num): \n",
        "  ####  to print all combinations of the factors\n",
        "  universal = [1, num]\n",
        "  factors = factorize(num)\n",
        "\n",
        "  if factors == num:\n",
        "    return universal\n",
        "  else:\n",
        "    factors.insert(0,universal)\n",
        "    temp = factors[:]\n",
        "    new = []\n",
        "    \n",
        "    for pos in range(len(factors)):\n",
        "      if factors[pos] in factors[pos+1:]:\n",
        "        temp.remove(factors[pos])\n",
        "    factors = temp\n",
        "\n",
        "  return factors"
      ],
      "execution_count": 53,
      "outputs": []
    },
    {
      "cell_type": "code",
      "metadata": {
        "colab": {
          "base_uri": "https://localhost:8080/"
        },
        "id": "IIQV0mD3W3J4",
        "outputId": "c4df1139-b7bf-4891-b88e-51146d7ec6a4"
      },
      "source": [
        "factorization(12)"
      ],
      "execution_count": 54,
      "outputs": [
        {
          "output_type": "execute_result",
          "data": {
            "text/plain": [
              "[[1, 12], [2, 6], [3, 4], [2, 2, 3]]"
            ]
          },
          "metadata": {
            "tags": []
          },
          "execution_count": 54
        }
      ]
    },
    {
      "cell_type": "markdown",
      "metadata": {
        "id": "yiqFbpbdQEYx"
      },
      "source": [
        "#### List all Factors"
      ]
    },
    {
      "cell_type": "code",
      "metadata": {
        "id": "zZJtNX1vSgNB"
      },
      "source": [
        "def getFactors(num):\n",
        "  main = [1]\n",
        "  root = int(sqrt(num))\n",
        "  \n",
        "  for i in range(2, root+1):\n",
        "    if num % i == 0:\n",
        "      main.extend([i, num//i])\n",
        "      endFc = getFactors(num//i)\n",
        "\n",
        "      if endFc[0] == num//i:\n",
        "        continue\n",
        "      else:\n",
        "        for fc in endFc:\n",
        "          #fc.extend([i])\n",
        "          #fc.sort()\n",
        "          main.extend([fc])\n",
        "  \n",
        "  main.append(num)\n",
        "  main = list(set(main))\n",
        "  return main"
      ],
      "execution_count": 55,
      "outputs": []
    },
    {
      "cell_type": "code",
      "metadata": {
        "colab": {
          "base_uri": "https://localhost:8080/"
        },
        "id": "fdP3XfSfP64s",
        "outputId": "0fb00b1e-1bf4-4c49-98b9-bf504c4d4b95"
      },
      "source": [
        "getFactors(12)"
      ],
      "execution_count": 56,
      "outputs": [
        {
          "output_type": "execute_result",
          "data": {
            "text/plain": [
              "[1, 2, 3, 4, 6, 12]"
            ]
          },
          "metadata": {
            "tags": []
          },
          "execution_count": 56
        }
      ]
    },
    {
      "cell_type": "markdown",
      "metadata": {
        "id": "SuhWBvl3W_Cb"
      },
      "source": [
        " ## Driver Code for Automatic Input Generation"
      ]
    },
    {
      "cell_type": "code",
      "metadata": {
        "id": "W3izOfNDusiH"
      },
      "source": [
        "def getBySquare(num, exp):\n",
        "  n = num**(exp+1)\n",
        "  min = 10**(exp)\n",
        "  max = 10**(exp+1)\n",
        "\n",
        "  while not (n >= min and n < max):\n",
        "    n *= 10\n",
        "  return n\n",
        "\n",
        "##########################################\n",
        "def get10Pow(num, deg):\n",
        "  coff = 10**(deg)\n",
        "  n = num*coff\n",
        "  return n\n",
        "\n",
        "##########################################\n",
        "def getNumRep(num, deg):\n",
        "  if deg is 0:\n",
        "    return num\n",
        "  else:\n",
        "    newNum = num*10 + (num%10)\n",
        "    return getNumRep(newNum, deg-1)"
      ],
      "execution_count": null,
      "outputs": []
    },
    {
      "cell_type": "code",
      "metadata": {
        "id": "TYyfmwjlKlRd"
      },
      "source": [
        "def driveForNNum():\n",
        "  numOfDigit = int(input(\"Upto how many number of digits? \"))\n",
        "  num = int(input(\"Enter a single digit number: \"))\n",
        "  print(\"\\n\")\n",
        "  if num > 9:\n",
        "    num = num%10 if num%10 != 0 else num//10  \n",
        "\n",
        "  for fun in range(3):\n",
        "    if fun == 0:\n",
        "      selector = get10Pow\n",
        "      deg = numOfDigit\n",
        "    elif fun == 1:\n",
        "      selector = getNumRep\n",
        "      deg = (numOfDigit*3)//4\n",
        "    else:\n",
        "      selector = getBySquare\n",
        "      deg = (numOfDigit*2)//3\n",
        "    \n",
        "    numbers = []\n",
        "    for i in range(deg):\n",
        "      n = selector(num, i)\n",
        "      numbers.append(n)\n",
        "\n",
        "      startTime = time()\n",
        "      factors = getFactors(n)\n",
        "      endTime = time()\n",
        "      exeTime = endTime - startTime\n",
        "\n",
        "      #print(\"Time talen to find factors of {} is : {}\".format(i, exeTime))\n",
        "      plt.plot(i+1, exeTime, c='#f16a70', marker='P')\n",
        "      plt.xlabel(\"Number of Digits in Number\")\n",
        "      plt.ylabel(\"Time taken to find factors (in seconds)\")\n",
        "    \n",
        "    print(\"Numbers for factor: \",numbers)\n",
        "    plt.show()\n"
      ],
      "execution_count": 153,
      "outputs": []
    },
    {
      "cell_type": "code",
      "metadata": {
        "colab": {
          "base_uri": "https://localhost:8080/",
          "height": 922
        },
        "id": "YUi4a0JUNuFP",
        "outputId": "3136bd0b-2e7b-4e4e-840e-076867b673df"
      },
      "source": [
        "driveForNNum()"
      ],
      "execution_count": 154,
      "outputs": [
        {
          "output_type": "stream",
          "text": [
            "Upto how many number of digits? 9\n",
            "Enter a single digit number: 2\n",
            "\n",
            "\n",
            "Numbers for factor:  [2, 20, 200, 2000, 20000, 200000, 2000000, 20000000, 200000000]\n"
          ],
          "name": "stdout"
        },
        {
          "output_type": "display_data",
          "data": {
            "image/png": "[encoded data removed]",
            "text/plain": [
              "<Figure size 432x288 with 1 Axes>"
            ]
          },
          "metadata": {
            "tags": [],
            "needs_background": "light"
          }
        },
        {
          "output_type": "stream",
          "text": [
            "Numbers for factor:  [2, 22, 222, 2222, 22222, 222222]\n"
          ],
          "name": "stdout"
        },
        {
          "output_type": "display_data",
          "data": {
            "image/png": "[encoded data removed]",
            "text/plain": [
              "<Figure size 432x288 with 1 Axes>"
            ]
          },
          "metadata": {
            "tags": [],
            "needs_background": "light"
          }
        },
        {
          "output_type": "stream",
          "text": [
            "Numbers for factor:  [2, 40, 800, 1600, 32000, 640000]\n"
          ],
          "name": "stdout"
        },
        {
          "output_type": "display_data",
          "data": {
            "image/png": "[encoded data removed]",
            "text/plain": [
              "<Figure size 432x288 with 1 Axes>"
            ]
          },
          "metadata": {
            "tags": [],
            "needs_background": "light"
          }
        }
      ]
    }
  ]
}